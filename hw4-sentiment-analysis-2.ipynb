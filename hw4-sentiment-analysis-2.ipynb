{
 "cells": [
  {
   "cell_type": "code",
   "execution_count": 1,
   "id": "4a6cf128",
   "metadata": {
    "_cell_guid": "b1076dfc-b9ad-4769-8c92-a6c4dae69d19",
    "_uuid": "8f2839f25d086af736a60e9eeb907d3b93b6e0e5",
    "execution": {
     "iopub.execute_input": "2024-11-12T08:26:28.197221Z",
     "iopub.status.busy": "2024-11-12T08:26:28.196071Z",
     "iopub.status.idle": "2024-11-12T08:26:29.174165Z",
     "shell.execute_reply": "2024-11-12T08:26:29.172858Z"
    },
    "papermill": {
     "duration": 0.990542,
     "end_time": "2024-11-12T08:26:29.176781",
     "exception": false,
     "start_time": "2024-11-12T08:26:28.186239",
     "status": "completed"
    },
    "tags": []
   },
   "outputs": [
    {
     "name": "stdout",
     "output_type": "stream",
     "text": [
      "/kaggle/input/yelp-reviews-dataset/yelp.csv\n"
     ]
    }
   ],
   "source": [
    "# This Python 3 environment comes with many helpful analytics libraries installed\n",
    "# It is defined by the kaggle/python Docker image: https://github.com/kaggle/docker-python\n",
    "# For example, here's several helpful packages to load\n",
    "\n",
    "import numpy as np # linear algebra\n",
    "import pandas as pd # data processing, CSV file I/O (e.g. pd.read_csv)\n",
    "\n",
    "# Input data files are available in the read-only \"../input/\" directory\n",
    "# For example, running this (by clicking run or pressing Shift+Enter) will list all files under the input directory\n",
    "\n",
    "import os\n",
    "for dirname, _, filenames in os.walk('/kaggle/input'):\n",
    "    for filename in filenames:\n",
    "        print(os.path.join(dirname, filename))\n",
    "\n",
    "# You can write up to 20GB to the current directory (/kaggle/working/) that gets preserved as output when you create a version using \"Save & Run All\" \n",
    "# You can also write temporary files to /kaggle/temp/, but they won't be saved outside of the current session"
   ]
  },
  {
   "cell_type": "code",
   "execution_count": 2,
   "id": "95051b8c",
   "metadata": {
    "execution": {
     "iopub.execute_input": "2024-11-12T08:26:29.192783Z",
     "iopub.status.busy": "2024-11-12T08:26:29.192238Z",
     "iopub.status.idle": "2024-11-12T08:26:46.039975Z",
     "shell.execute_reply": "2024-11-12T08:26:46.038889Z"
    },
    "papermill": {
     "duration": 16.858849,
     "end_time": "2024-11-12T08:26:46.042867",
     "exception": false,
     "start_time": "2024-11-12T08:26:29.184018",
     "status": "completed"
    },
    "tags": []
   },
   "outputs": [],
   "source": [
    "# Step 1: Import Libraries\n",
    "import pandas as pd\n",
    "import numpy as np\n",
    "from sklearn.model_selection import train_test_split\n",
    "from sklearn.feature_extraction.text import TfidfVectorizer\n",
    "from sklearn.preprocessing import LabelEncoder\n",
    "from tensorflow.keras.models import Sequential\n",
    "from tensorflow.keras.layers import Dense, Dropout, Conv1D, GlobalMaxPooling1D, LSTM, Embedding\n",
    "from tensorflow.keras.preprocessing.text import Tokenizer\n",
    "from tensorflow.keras.preprocessing.sequence import pad_sequences\n",
    "import matplotlib.pyplot as plt\n",
    "import re\n",
    "import nltk\n",
    "from nltk.corpus import stopwords"
   ]
  },
  {
   "cell_type": "code",
   "execution_count": 3,
   "id": "f6524cdf",
   "metadata": {
    "execution": {
     "iopub.execute_input": "2024-11-12T08:26:46.059203Z",
     "iopub.status.busy": "2024-11-12T08:26:46.058447Z",
     "iopub.status.idle": "2024-11-12T08:26:46.152147Z",
     "shell.execute_reply": "2024-11-12T08:26:46.150864Z"
    },
    "papermill": {
     "duration": 0.104809,
     "end_time": "2024-11-12T08:26:46.154903",
     "exception": false,
     "start_time": "2024-11-12T08:26:46.050094",
     "status": "completed"
    },
    "tags": []
   },
   "outputs": [
    {
     "name": "stdout",
     "output_type": "stream",
     "text": [
      "[nltk_data] Downloading package stopwords to /usr/share/nltk_data...\n",
      "[nltk_data]   Package stopwords is already up-to-date!\n"
     ]
    }
   ],
   "source": [
    "# Download stopwords\n",
    "nltk.download('stopwords')\n",
    "stop_words = set(stopwords.words('english'))"
   ]
  },
  {
   "cell_type": "code",
   "execution_count": 4,
   "id": "62f8a315",
   "metadata": {
    "execution": {
     "iopub.execute_input": "2024-11-12T08:26:46.170897Z",
     "iopub.status.busy": "2024-11-12T08:26:46.170434Z",
     "iopub.status.idle": "2024-11-12T08:26:46.402334Z",
     "shell.execute_reply": "2024-11-12T08:26:46.401208Z"
    },
    "papermill": {
     "duration": 0.243304,
     "end_time": "2024-11-12T08:26:46.405333",
     "exception": false,
     "start_time": "2024-11-12T08:26:46.162029",
     "status": "completed"
    },
    "tags": []
   },
   "outputs": [],
   "source": [
    "# Step 2: Load and Preprocess Data\n",
    "# a. Load dataset and select required columns\n",
    "df = pd.read_csv('../input/yelp-reviews-dataset/yelp.csv')\n",
    "df = df[['text', 'stars']]\n"
   ]
  },
  {
   "cell_type": "code",
   "execution_count": 5,
   "id": "53717d29",
   "metadata": {
    "execution": {
     "iopub.execute_input": "2024-11-12T08:26:46.421196Z",
     "iopub.status.busy": "2024-11-12T08:26:46.420753Z",
     "iopub.status.idle": "2024-11-12T08:26:46.440840Z",
     "shell.execute_reply": "2024-11-12T08:26:46.439691Z"
    },
    "papermill": {
     "duration": 0.031191,
     "end_time": "2024-11-12T08:26:46.443620",
     "exception": false,
     "start_time": "2024-11-12T08:26:46.412429",
     "status": "completed"
    },
    "tags": []
   },
   "outputs": [],
   "source": [
    "# Convert stars to binary sentiment\n",
    "df['sentiment'] = df['stars'].apply(lambda x: 1 if x >= 4 else 0)\n",
    "df = df[['text', 'sentiment']]"
   ]
  },
  {
   "cell_type": "code",
   "execution_count": 6,
   "id": "b1126c5d",
   "metadata": {
    "execution": {
     "iopub.execute_input": "2024-11-12T08:26:46.459706Z",
     "iopub.status.busy": "2024-11-12T08:26:46.459154Z",
     "iopub.status.idle": "2024-11-12T08:26:47.532996Z",
     "shell.execute_reply": "2024-11-12T08:26:47.531747Z"
    },
    "papermill": {
     "duration": 1.085114,
     "end_time": "2024-11-12T08:26:47.535967",
     "exception": false,
     "start_time": "2024-11-12T08:26:46.450853",
     "status": "completed"
    },
    "tags": []
   },
   "outputs": [],
   "source": [
    "# b. Remove stop words and clean text\n",
    "def preprocess_text(text):\n",
    "    text = re.sub(r'[^a-zA-Z]', ' ', text)\n",
    "    text = text.lower().split()\n",
    "    text = [word for word in text if word not in stop_words]\n",
    "    return ' '.join(text)\n",
    "\n",
    "df['text'] = df['text'].apply(preprocess_text)\n"
   ]
  },
  {
   "cell_type": "code",
   "execution_count": 7,
   "id": "fcc56034",
   "metadata": {
    "execution": {
     "iopub.execute_input": "2024-11-12T08:26:47.551571Z",
     "iopub.status.busy": "2024-11-12T08:26:47.551144Z",
     "iopub.status.idle": "2024-11-12T08:26:48.888586Z",
     "shell.execute_reply": "2024-11-12T08:26:48.887310Z"
    },
    "papermill": {
     "duration": 1.348758,
     "end_time": "2024-11-12T08:26:48.891727",
     "exception": false,
     "start_time": "2024-11-12T08:26:47.542969",
     "status": "completed"
    },
    "tags": []
   },
   "outputs": [],
   "source": [
    "# c. Text to sequence conversion\n",
    "tokenizer = Tokenizer()\n",
    "tokenizer.fit_on_texts(df['text'])\n",
    "sequences = tokenizer.texts_to_sequences(df['text'])"
   ]
  },
  {
   "cell_type": "code",
   "execution_count": 8,
   "id": "0346f4ff",
   "metadata": {
    "execution": {
     "iopub.execute_input": "2024-11-12T08:26:48.913152Z",
     "iopub.status.busy": "2024-11-12T08:26:48.912675Z",
     "iopub.status.idle": "2024-11-12T08:26:49.030626Z",
     "shell.execute_reply": "2024-11-12T08:26:49.029615Z"
    },
    "papermill": {
     "duration": 0.130776,
     "end_time": "2024-11-12T08:26:49.033499",
     "exception": false,
     "start_time": "2024-11-12T08:26:48.902723",
     "status": "completed"
    },
    "tags": []
   },
   "outputs": [],
   "source": [
    "# Pad sequences\n",
    "max_len = 1000\n",
    "X = pad_sequences(sequences, maxlen=max_len)\n",
    "Y = df['sentiment'].values"
   ]
  },
  {
   "cell_type": "code",
   "execution_count": 9,
   "id": "2001fa81",
   "metadata": {
    "execution": {
     "iopub.execute_input": "2024-11-12T08:26:49.049158Z",
     "iopub.status.busy": "2024-11-12T08:26:49.048697Z",
     "iopub.status.idle": "2024-11-12T08:26:49.076229Z",
     "shell.execute_reply": "2024-11-12T08:26:49.074995Z"
    },
    "papermill": {
     "duration": 0.038679,
     "end_time": "2024-11-12T08:26:49.079115",
     "exception": false,
     "start_time": "2024-11-12T08:26:49.040436",
     "status": "completed"
    },
    "tags": []
   },
   "outputs": [],
   "source": [
    "# Split data into train and test sets\n",
    "X_train, X_test, Y_train, Y_test = train_test_split(X, Y, test_size=0.2, random_state=42)"
   ]
  },
  {
   "cell_type": "code",
   "execution_count": 10,
   "id": "3026cb4a",
   "metadata": {
    "execution": {
     "iopub.execute_input": "2024-11-12T08:26:49.094949Z",
     "iopub.status.busy": "2024-11-12T08:26:49.094487Z",
     "iopub.status.idle": "2024-11-12T08:32:34.061246Z",
     "shell.execute_reply": "2024-11-12T08:32:34.059842Z"
    },
    "papermill": {
     "duration": 344.97822,
     "end_time": "2024-11-12T08:32:34.064423",
     "exception": false,
     "start_time": "2024-11-12T08:26:49.086203",
     "status": "completed"
    },
    "tags": []
   },
   "outputs": [
    {
     "name": "stdout",
     "output_type": "stream",
     "text": [
      "Epoch 1/5\n"
     ]
    },
    {
     "name": "stderr",
     "output_type": "stream",
     "text": [
      "/opt/conda/lib/python3.10/site-packages/keras/src/layers/core/embedding.py:90: UserWarning: Argument `input_length` is deprecated. Just remove it.\n",
      "  warnings.warn(\n"
     ]
    },
    {
     "name": "stdout",
     "output_type": "stream",
     "text": [
      "\u001b[1m125/125\u001b[0m \u001b[32m━━━━━━━━━━━━━━━━━━━━\u001b[0m\u001b[37m\u001b[0m \u001b[1m51s\u001b[0m 393ms/step - accuracy: 0.6700 - loss: 0.6324 - val_accuracy: 0.7550 - val_loss: 0.5055\n",
      "Epoch 2/5\n",
      "\u001b[1m125/125\u001b[0m \u001b[32m━━━━━━━━━━━━━━━━━━━━\u001b[0m\u001b[37m\u001b[0m \u001b[1m48s\u001b[0m 384ms/step - accuracy: 0.8135 - loss: 0.4356 - val_accuracy: 0.8020 - val_loss: 0.4258\n",
      "Epoch 3/5\n",
      "\u001b[1m125/125\u001b[0m \u001b[32m━━━━━━━━━━━━━━━━━━━━\u001b[0m\u001b[37m\u001b[0m \u001b[1m83s\u001b[0m 390ms/step - accuracy: 0.9401 - loss: 0.1890 - val_accuracy: 0.8160 - val_loss: 0.4456\n",
      "Epoch 4/5\n",
      "\u001b[1m125/125\u001b[0m \u001b[32m━━━━━━━━━━━━━━━━━━━━\u001b[0m\u001b[37m\u001b[0m \u001b[1m81s\u001b[0m 383ms/step - accuracy: 0.9900 - loss: 0.0554 - val_accuracy: 0.8105 - val_loss: 0.5672\n",
      "Epoch 5/5\n",
      "\u001b[1m125/125\u001b[0m \u001b[32m━━━━━━━━━━━━━━━━━━━━\u001b[0m\u001b[37m\u001b[0m \u001b[1m49s\u001b[0m 392ms/step - accuracy: 0.9978 - loss: 0.0168 - val_accuracy: 0.8065 - val_loss: 0.7007\n"
     ]
    }
   ],
   "source": [
    "# Step 3: Build and Train CNN Model\n",
    "# a. CNN Model\n",
    "cnn_model = Sequential()\n",
    "cnn_model.add(Embedding(len(tokenizer.word_index) + 1, 128, input_length=max_len))\n",
    "cnn_model.add(Conv1D(128, 5, activation='relu'))\n",
    "cnn_model.add(GlobalMaxPooling1D())\n",
    "cnn_model.add(Dense(128, activation='relu'))\n",
    "cnn_model.add(Dropout(0.7))\n",
    "cnn_model.add(Dense(1, activation='sigmoid'))\n",
    "\n",
    "cnn_model.compile(optimizer='adam', loss='binary_crossentropy', metrics=['accuracy'])\n",
    "\n",
    "cnn_history = cnn_model.fit(X_train, Y_train, epochs=5, batch_size=64, validation_data=(X_test, Y_test))"
   ]
  },
  {
   "cell_type": "code",
   "execution_count": 11,
   "id": "c3046e32",
   "metadata": {
    "execution": {
     "iopub.execute_input": "2024-11-12T08:32:34.202254Z",
     "iopub.status.busy": "2024-11-12T08:32:34.201773Z",
     "iopub.status.idle": "2024-11-12T08:47:41.445999Z",
     "shell.execute_reply": "2024-11-12T08:47:41.444791Z"
    },
    "papermill": {
     "duration": 907.315818,
     "end_time": "2024-11-12T08:47:41.449045",
     "exception": false,
     "start_time": "2024-11-12T08:32:34.133227",
     "status": "completed"
    },
    "tags": []
   },
   "outputs": [
    {
     "name": "stdout",
     "output_type": "stream",
     "text": [
      "Epoch 1/5\n",
      "\u001b[1m125/125\u001b[0m \u001b[32m━━━━━━━━━━━━━━━━━━━━\u001b[0m\u001b[37m\u001b[0m \u001b[1m177s\u001b[0m 1s/step - accuracy: 0.6872 - loss: 0.6014 - val_accuracy: 0.8150 - val_loss: 0.4125\n",
      "Epoch 2/5\n",
      "\u001b[1m125/125\u001b[0m \u001b[32m━━━━━━━━━━━━━━━━━━━━\u001b[0m\u001b[37m\u001b[0m \u001b[1m174s\u001b[0m 1s/step - accuracy: 0.8869 - loss: 0.2939 - val_accuracy: 0.8160 - val_loss: 0.4528\n",
      "Epoch 3/5\n",
      "\u001b[1m125/125\u001b[0m \u001b[32m━━━━━━━━━━━━━━━━━━━━\u001b[0m\u001b[37m\u001b[0m \u001b[1m177s\u001b[0m 1s/step - accuracy: 0.9469 - loss: 0.1640 - val_accuracy: 0.7875 - val_loss: 0.5443\n",
      "Epoch 4/5\n",
      "\u001b[1m125/125\u001b[0m \u001b[32m━━━━━━━━━━━━━━━━━━━━\u001b[0m\u001b[37m\u001b[0m \u001b[1m177s\u001b[0m 1s/step - accuracy: 0.9734 - loss: 0.0860 - val_accuracy: 0.7820 - val_loss: 0.6844\n",
      "Epoch 5/5\n",
      "\u001b[1m125/125\u001b[0m \u001b[32m━━━━━━━━━━━━━━━━━━━━\u001b[0m\u001b[37m\u001b[0m \u001b[1m174s\u001b[0m 1s/step - accuracy: 0.9767 - loss: 0.0754 - val_accuracy: 0.7915 - val_loss: 0.7526\n"
     ]
    }
   ],
   "source": [
    "# Step 4: Build and Train LSTM Model\n",
    "# b. LSTM Model\n",
    "lstm_model = Sequential()\n",
    "lstm_model.add(Embedding(len(tokenizer.word_index) + 1, 128, input_length=max_len))\n",
    "lstm_model.add(LSTM(128, return_sequences=False))\n",
    "lstm_model.add(Dropout(0.7))\n",
    "lstm_model.add(Dense(1, activation='sigmoid'))\n",
    "\n",
    "lstm_model.compile(optimizer='adam', loss='binary_crossentropy', metrics=['accuracy'])\n",
    "\n",
    "lstm_history = lstm_model.fit(X_train, Y_train, epochs=5, batch_size=64, validation_data=(X_test, Y_test))\n"
   ]
  },
  {
   "cell_type": "code",
   "execution_count": 12,
   "id": "05b33407",
   "metadata": {
    "execution": {
     "iopub.execute_input": "2024-11-12T08:47:41.709814Z",
     "iopub.status.busy": "2024-11-12T08:47:41.709374Z",
     "iopub.status.idle": "2024-11-12T08:48:10.009091Z",
     "shell.execute_reply": "2024-11-12T08:48:10.007898Z"
    },
    "papermill": {
     "duration": 28.432556,
     "end_time": "2024-11-12T08:48:10.011781",
     "exception": false,
     "start_time": "2024-11-12T08:47:41.579225",
     "status": "completed"
    },
    "tags": []
   },
   "outputs": [
    {
     "name": "stdout",
     "output_type": "stream",
     "text": [
      "\u001b[1m63/63\u001b[0m \u001b[32m━━━━━━━━━━━━━━━━━━━━\u001b[0m\u001b[37m\u001b[0m \u001b[1m3s\u001b[0m 51ms/step - accuracy: 0.8056 - loss: 0.7659\n",
      "\u001b[1m63/63\u001b[0m \u001b[32m━━━━━━━━━━━━━━━━━━━━\u001b[0m\u001b[37m\u001b[0m \u001b[1m23s\u001b[0m 366ms/step - accuracy: 0.7944 - loss: 0.7379\n",
      "CNN Test Accuracy: 0.8065000176429749\n",
      "LSTM Test Accuracy: 0.7914999723434448\n"
     ]
    }
   ],
   "source": [
    "# Step 5: Evaluate Models\n",
    "# a. Calculate accuracy for both models\n",
    "cnn_loss, cnn_accuracy = cnn_model.evaluate(X_test, Y_test)\n",
    "lstm_loss, lstm_accuracy = lstm_model.evaluate(X_test, Y_test)\n",
    "\n",
    "print(f'CNN Test Accuracy: {cnn_accuracy}')\n",
    "print(f'LSTM Test Accuracy: {lstm_accuracy}')"
   ]
  },
  {
   "cell_type": "code",
   "execution_count": 13,
   "id": "bd41d57d",
   "metadata": {
    "execution": {
     "iopub.execute_input": "2024-11-12T08:48:10.294891Z",
     "iopub.status.busy": "2024-11-12T08:48:10.294048Z",
     "iopub.status.idle": "2024-11-12T08:48:10.313038Z",
     "shell.execute_reply": "2024-11-12T08:48:10.311980Z"
    },
    "papermill": {
     "duration": 0.161917,
     "end_time": "2024-11-12T08:48:10.315262",
     "exception": false,
     "start_time": "2024-11-12T08:48:10.153345",
     "status": "completed"
    },
    "tags": []
   },
   "outputs": [
    {
     "data": {
      "text/plain": [
       "<Figure size 1200x600 with 0 Axes>"
      ]
     },
     "execution_count": 13,
     "metadata": {},
     "output_type": "execute_result"
    },
    {
     "data": {
      "text/plain": [
       "<Figure size 1200x600 with 0 Axes>"
      ]
     },
     "metadata": {},
     "output_type": "display_data"
    }
   ],
   "source": [
    "# Step 6: Plot Training Process\n",
    "# CNN Accuracy and Loss\n",
    "plt.figure(figsize=(12, 6))\n"
   ]
  },
  {
   "cell_type": "code",
   "execution_count": 14,
   "id": "e4cfaa5f",
   "metadata": {
    "execution": {
     "iopub.execute_input": "2024-11-12T08:48:10.599511Z",
     "iopub.status.busy": "2024-11-12T08:48:10.599014Z",
     "iopub.status.idle": "2024-11-12T08:48:10.946514Z",
     "shell.execute_reply": "2024-11-12T08:48:10.945311Z"
    },
    "papermill": {
     "duration": 0.492938,
     "end_time": "2024-11-12T08:48:10.949101",
     "exception": false,
     "start_time": "2024-11-12T08:48:10.456163",
     "status": "completed"
    },
    "tags": []
   },
   "outputs": [
    {
     "data": {
      "text/plain": [
       "<matplotlib.legend.Legend at 0x7881574b5720>"
      ]
     },
     "execution_count": 14,
     "metadata": {},
     "output_type": "execute_result"
    },
    {
     "data": {
      "image/png": "[encoded data removed]",
      "text/plain": [
       "<Figure size 640x480 with 1 Axes>"
      ]
     },
     "metadata": {},
     "output_type": "display_data"
    }
   ],
   "source": [
    "# Plot CNN accuracy\n",
    "plt.subplot(1, 2, 1)\n",
    "plt.plot(cnn_history.history['accuracy'], label='Train Accuracy')\n",
    "plt.plot(cnn_history.history['val_accuracy'], label='Validation Accuracy')\n",
    "plt.title('CNN Model Accuracy')\n",
    "plt.xlabel('Epochs')\n",
    "plt.ylabel('Accuracy')\n",
    "plt.legend()"
   ]
  },
  {
   "cell_type": "code",
   "execution_count": 15,
   "id": "2c1d6d68",
   "metadata": {
    "execution": {
     "iopub.execute_input": "2024-11-12T08:48:11.235813Z",
     "iopub.status.busy": "2024-11-12T08:48:11.235311Z",
     "iopub.status.idle": "2024-11-12T08:48:11.493084Z",
     "shell.execute_reply": "2024-11-12T08:48:11.491979Z"
    },
    "papermill": {
     "duration": 0.402941,
     "end_time": "2024-11-12T08:48:11.495637",
     "exception": false,
     "start_time": "2024-11-12T08:48:11.092696",
     "status": "completed"
    },
    "tags": []
   },
   "outputs": [
    {
     "data": {
      "image/png": "[encoded data removed]",
      "text/plain": [
       "<Figure size 640x480 with 1 Axes>"
      ]
     },
     "metadata": {},
     "output_type": "display_data"
    }
   ],
   "source": [
    "# Plot CNN loss\n",
    "plt.subplot(1, 2, 2)\n",
    "plt.plot(cnn_history.history['loss'], label='Train Loss')\n",
    "plt.plot(cnn_history.history['val_loss'], label='Validation Loss')\n",
    "plt.title('CNN Model Loss')\n",
    "plt.xlabel('Epochs')\n",
    "plt.ylabel('Loss')\n",
    "plt.legend()\n",
    "\n",
    "plt.show()\n"
   ]
  },
  {
   "cell_type": "code",
   "execution_count": 16,
   "id": "1b17f993",
   "metadata": {
    "execution": {
     "iopub.execute_input": "2024-11-12T08:48:11.784981Z",
     "iopub.status.busy": "2024-11-12T08:48:11.783811Z",
     "iopub.status.idle": "2024-11-12T08:48:11.796088Z",
     "shell.execute_reply": "2024-11-12T08:48:11.795005Z"
    },
    "papermill": {
     "duration": 0.160566,
     "end_time": "2024-11-12T08:48:11.798557",
     "exception": false,
     "start_time": "2024-11-12T08:48:11.637991",
     "status": "completed"
    },
    "tags": []
   },
   "outputs": [
    {
     "data": {
      "text/plain": [
       "<Figure size 1200x600 with 0 Axes>"
      ]
     },
     "execution_count": 16,
     "metadata": {},
     "output_type": "execute_result"
    },
    {
     "data": {
      "text/plain": [
       "<Figure size 1200x600 with 0 Axes>"
      ]
     },
     "metadata": {},
     "output_type": "display_data"
    }
   ],
   "source": [
    "# LSTM Accuracy and Loss\n",
    "plt.figure(figsize=(12, 6))"
   ]
  },
  {
   "cell_type": "code",
   "execution_count": 17,
   "id": "ededd686",
   "metadata": {
    "execution": {
     "iopub.execute_input": "2024-11-12T08:48:12.088134Z",
     "iopub.status.busy": "2024-11-12T08:48:12.087691Z",
     "iopub.status.idle": "2024-11-12T08:48:12.369471Z",
     "shell.execute_reply": "2024-11-12T08:48:12.368312Z"
    },
    "papermill": {
     "duration": 0.429827,
     "end_time": "2024-11-12T08:48:12.371860",
     "exception": false,
     "start_time": "2024-11-12T08:48:11.942033",
     "status": "completed"
    },
    "tags": []
   },
   "outputs": [
    {
     "data": {
      "text/plain": [
       "<matplotlib.legend.Legend at 0x788155a8f550>"
      ]
     },
     "execution_count": 17,
     "metadata": {},
     "output_type": "execute_result"
    },
    {
     "data": {
      "image/png": "[encoded data removed]",
      "text/plain": [
       "<Figure size 640x480 with 1 Axes>"
      ]
     },
     "metadata": {},
     "output_type": "display_data"
    }
   ],
   "source": [
    "# Plot LSTM accuracy\n",
    "plt.subplot(1, 2, 1)\n",
    "plt.plot(lstm_history.history['accuracy'], label='Train Accuracy')\n",
    "plt.plot(lstm_history.history['val_accuracy'], label='Validation Accuracy')\n",
    "plt.title('LSTM Model Accuracy')\n",
    "plt.xlabel('Epochs')\n",
    "plt.ylabel('Accuracy')\n",
    "plt.legend()"
   ]
  },
  {
   "cell_type": "code",
   "execution_count": 18,
   "id": "5e82436d",
   "metadata": {
    "execution": {
     "iopub.execute_input": "2024-11-12T08:48:12.662178Z",
     "iopub.status.busy": "2024-11-12T08:48:12.661696Z",
     "iopub.status.idle": "2024-11-12T08:48:13.198400Z",
     "shell.execute_reply": "2024-11-12T08:48:13.197382Z"
    },
    "papermill": {
     "duration": 0.68391,
     "end_time": "2024-11-12T08:48:13.201048",
     "exception": false,
     "start_time": "2024-11-12T08:48:12.517138",
     "status": "completed"
    },
    "tags": []
   },
   "outputs": [
    {
     "data": {
      "image/png": "[encoded data removed]",
      "text/plain": [
       "<Figure size 640x480 with 1 Axes>"
      ]
     },
     "metadata": {},
     "output_type": "display_data"
    }
   ],
   "source": [
    "# Plot LSTM loss\n",
    "plt.subplot(1, 2, 2)\n",
    "plt.plot(lstm_history.history['loss'], label='Train Loss')\n",
    "plt.plot(lstm_history.history['val_loss'], label='Validation Loss')\n",
    "plt.title('LSTM Model Loss')\n",
    "plt.xlabel('Epochs')\n",
    "plt.ylabel('Loss')\n",
    "plt.legend()\n",
    "\n",
    "plt.show()\n"
   ]
  }
 ],
 "metadata": {
  "kaggle": {
   "accelerator": "none",
   "dataSources": [
    {
     "datasetId": 29760,
     "sourceId": 37927,
     "sourceType": "datasetVersion"
    }
   ],
   "dockerImageVersionId": 30786,
   "isGpuEnabled": false,
   "isInternetEnabled": true,
   "language": "python",
   "sourceType": "notebook"
  },
  "kernelspec": {
   "display_name": "Python 3",
   "language": "python",
   "name": "python3"
  },
  "language_info": {
   "codemirror_mode": {
    "name": "ipython",
    "version": 3
   },
   "file_extension": ".py",
   "mimetype": "text/x-python",
   "name": "python",
   "nbconvert_exporter": "python",
   "pygments_lexer": "ipython3",
   "version": "3.10.14"
  },
  "papermill": {
   "default_parameters": {},
   "duration": 1310.086208,
   "end_time": "2024-11-12T08:48:15.171679",
   "environment_variables": {},
   "exception": null,
   "input_path": "__notebook__.ipynb",
   "output_path": "__notebook__.ipynb",
   "parameters": {},
   "start_time": "2024-11-12T08:26:25.085471",
   "version": "2.6.0"
  }
 },
 "nbformat": 4,
 "nbformat_minor": 5
}
