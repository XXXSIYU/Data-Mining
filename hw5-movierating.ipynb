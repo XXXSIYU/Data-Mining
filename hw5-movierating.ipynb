{
 "cells": [
  {
   "cell_type": "code",
   "execution_count": 1,
   "id": "048dfe5f",
   "metadata": {
    "_cell_guid": "b1076dfc-b9ad-4769-8c92-a6c4dae69d19",
    "_uuid": "8f2839f25d086af736a60e9eeb907d3b93b6e0e5",
    "execution": {
     "iopub.execute_input": "2024-12-03T13:02:20.191313Z",
     "iopub.status.busy": "2024-12-03T13:02:20.190895Z",
     "iopub.status.idle": "2024-12-03T13:02:20.871995Z",
     "shell.execute_reply": "2024-12-03T13:02:20.871032Z"
    },
    "papermill": {
     "duration": 0.686685,
     "end_time": "2024-12-03T13:02:20.873933",
     "exception": false,
     "start_time": "2024-12-03T13:02:20.187248",
     "status": "completed"
    },
    "tags": []
   },
   "outputs": [
    {
     "name": "stdout",
     "output_type": "stream",
     "text": [
      "/kaggle/input/movierating/movieRating.csv\n"
     ]
    }
   ],
   "source": [
    "# This Python 3 environment comes with many helpful analytics libraries installed\n",
    "# It is defined by the kaggle/python Docker image: https://github.com/kaggle/docker-python\n",
    "# For example, here's several helpful packages to load\n",
    "\n",
    "import numpy as np # linear algebra\n",
    "import pandas as pd # data processing, CSV file I/O (e.g. pd.read_csv)\n",
    "\n",
    "# Input data files are available in the read-only \"../input/\" directory\n",
    "# For example, running this (by clicking run or pressing Shift+Enter) will list all files under the input directory\n",
    "\n",
    "import os\n",
    "for dirname, _, filenames in os.walk('/kaggle/input'):\n",
    "    for filename in filenames:\n",
    "        print(os.path.join(dirname, filename))\n",
    "\n",
    "# You can write up to 20GB to the current directory (/kaggle/working/) that gets preserved as output when you create a version using \"Save & Run All\" \n",
    "# You can also write temporary files to /kaggle/temp/, but they won't be saved outside of the current session"
   ]
  },
  {
   "cell_type": "code",
   "execution_count": 2,
   "id": "c616f68f",
   "metadata": {
    "execution": {
     "iopub.execute_input": "2024-12-03T13:02:20.879669Z",
     "iopub.status.busy": "2024-12-03T13:02:20.879322Z",
     "iopub.status.idle": "2024-12-03T13:02:32.870051Z",
     "shell.execute_reply": "2024-12-03T13:02:32.869134Z"
    },
    "papermill": {
     "duration": 11.995697,
     "end_time": "2024-12-03T13:02:32.872174",
     "exception": false,
     "start_time": "2024-12-03T13:02:20.876477",
     "status": "completed"
    },
    "tags": []
   },
   "outputs": [],
   "source": [
    "# 匯入必要的套件\n",
    "import pandas as pd\n",
    "import numpy as np\n",
    "from sklearn.model_selection import train_test_split\n",
    "from keras.models import Model\n",
    "from keras.layers import Input, Embedding, Flatten, Dot\n",
    "from keras.optimizers import Adam\n",
    "from sklearn.metrics import mean_absolute_error"
   ]
  },
  {
   "cell_type": "code",
   "execution_count": 3,
   "id": "d0e10acd",
   "metadata": {
    "execution": {
     "iopub.execute_input": "2024-12-03T13:02:32.878558Z",
     "iopub.status.busy": "2024-12-03T13:02:32.877509Z",
     "iopub.status.idle": "2024-12-03T13:02:33.242275Z",
     "shell.execute_reply": "2024-12-03T13:02:33.241563Z"
    },
    "papermill": {
     "duration": 0.369869,
     "end_time": "2024-12-03T13:02:33.244377",
     "exception": false,
     "start_time": "2024-12-03T13:02:32.874508",
     "status": "completed"
    },
    "tags": []
   },
   "outputs": [],
   "source": [
    "# 讀取資料\n",
    "file_path = \"/kaggle/input/movierating/movieRating.csv\"\n",
    "movie_data = pd.read_csv(file_path)\n"
   ]
  },
  {
   "cell_type": "code",
   "execution_count": 4,
   "id": "28e49c12",
   "metadata": {
    "execution": {
     "iopub.execute_input": "2024-12-03T13:02:33.250078Z",
     "iopub.status.busy": "2024-12-03T13:02:33.249776Z",
     "iopub.status.idle": "2024-12-03T13:02:33.345285Z",
     "shell.execute_reply": "2024-12-03T13:02:33.344483Z"
    },
    "papermill": {
     "duration": 0.10087,
     "end_time": "2024-12-03T13:02:33.347599",
     "exception": false,
     "start_time": "2024-12-03T13:02:33.246729",
     "status": "completed"
    },
    "tags": []
   },
   "outputs": [],
   "source": [
    "# 隨機打散並分割資料\n",
    "train_data, test_data = train_test_split(movie_data, test_size=0.2, random_state=42, shuffle=True)\n",
    "\n",
    "# 映射 UserID 和 MovieID 到索引\n",
    "user_ids = movie_data['UserID'].unique()\n",
    "movie_ids = movie_data['MovieID'].unique()\n",
    "\n",
    "user_to_index = {user_id: idx for idx, user_id in enumerate(user_ids)}\n",
    "movie_to_index = {movie_id: idx for idx, movie_id in enumerate(movie_ids)}"
   ]
  },
  {
   "cell_type": "code",
   "execution_count": 5,
   "id": "699e0f4d",
   "metadata": {
    "execution": {
     "iopub.execute_input": "2024-12-03T13:02:33.353666Z",
     "iopub.status.busy": "2024-12-03T13:02:33.353327Z",
     "iopub.status.idle": "2024-12-03T13:02:33.422588Z",
     "shell.execute_reply": "2024-12-03T13:02:33.421846Z"
    },
    "papermill": {
     "duration": 0.074401,
     "end_time": "2024-12-03T13:02:33.424541",
     "exception": false,
     "start_time": "2024-12-03T13:02:33.350140",
     "status": "completed"
    },
    "tags": []
   },
   "outputs": [],
   "source": [
    "# 新增索引欄位\n",
    "train_data['UserIndex'] = train_data['UserID'].map(user_to_index)\n",
    "train_data['MovieIndex'] = train_data['MovieID'].map(movie_to_index)\n",
    "test_data['UserIndex'] = test_data['UserID'].map(user_to_index)\n",
    "test_data['MovieIndex'] = test_data['MovieID'].map(movie_to_index)"
   ]
  },
  {
   "cell_type": "code",
   "execution_count": 6,
   "id": "cf8e4837",
   "metadata": {
    "execution": {
     "iopub.execute_input": "2024-12-03T13:02:33.430128Z",
     "iopub.status.busy": "2024-12-03T13:02:33.429819Z",
     "iopub.status.idle": "2024-12-03T13:02:34.304327Z",
     "shell.execute_reply": "2024-12-03T13:02:34.303595Z"
    },
    "papermill": {
     "duration": 0.879412,
     "end_time": "2024-12-03T13:02:34.306244",
     "exception": false,
     "start_time": "2024-12-03T13:02:33.426832",
     "status": "completed"
    },
    "tags": []
   },
   "outputs": [],
   "source": [
    "# 定義矩陣分解模型\n",
    "n_users = len(user_ids)\n",
    "n_movies = len(movie_ids)\n",
    "embedding_size = 50\n",
    "\n",
    "user_input = Input(shape=(1,))\n",
    "movie_input = Input(shape=(1,))\n",
    "\n",
    "# 移除 `input_length` 參數\n",
    "user_embedding = Embedding(input_dim=n_users, output_dim=embedding_size)(user_input)\n",
    "movie_embedding = Embedding(input_dim=n_movies, output_dim=embedding_size)(movie_input)\n",
    "\n",
    "user_vec = Flatten()(user_embedding)\n",
    "movie_vec = Flatten()(movie_embedding)\n",
    "\n",
    "dot_product = Dot(axes=1)([user_vec, movie_vec])\n",
    "\n",
    "model = Model(inputs=[user_input, movie_input], outputs=dot_product)\n",
    "model.compile(optimizer=Adam(), loss='mean_absolute_error')"
   ]
  },
  {
   "cell_type": "code",
   "execution_count": 7,
   "id": "775e34b4",
   "metadata": {
    "execution": {
     "iopub.execute_input": "2024-12-03T13:02:34.311552Z",
     "iopub.status.busy": "2024-12-03T13:02:34.311264Z",
     "iopub.status.idle": "2024-12-03T13:02:34.315784Z",
     "shell.execute_reply": "2024-12-03T13:02:34.314954Z"
    },
    "papermill": {
     "duration": 0.009137,
     "end_time": "2024-12-03T13:02:34.317568",
     "exception": false,
     "start_time": "2024-12-03T13:02:34.308431",
     "status": "completed"
    },
    "tags": []
   },
   "outputs": [],
   "source": [
    "# 準備訓練與測試資料\n",
    "X_train = [train_data['UserIndex'].values, train_data['MovieIndex'].values]\n",
    "y_train = train_data['Rating'].values\n",
    "\n",
    "X_test = [test_data['UserIndex'].values, test_data['MovieIndex'].values]\n",
    "y_test = test_data['Rating'].values"
   ]
  },
  {
   "cell_type": "code",
   "execution_count": 8,
   "id": "8466fb00",
   "metadata": {
    "execution": {
     "iopub.execute_input": "2024-12-03T13:02:34.323462Z",
     "iopub.status.busy": "2024-12-03T13:02:34.323212Z",
     "iopub.status.idle": "2024-12-03T13:03:02.092474Z",
     "shell.execute_reply": "2024-12-03T13:03:02.091567Z"
    },
    "papermill": {
     "duration": 27.774873,
     "end_time": "2024-12-03T13:03:02.094492",
     "exception": false,
     "start_time": "2024-12-03T13:02:34.319619",
     "status": "completed"
    },
    "tags": []
   },
   "outputs": [
    {
     "name": "stdout",
     "output_type": "stream",
     "text": [
      "Epoch 1/5\n"
     ]
    },
    {
     "name": "stderr",
     "output_type": "stream",
     "text": [
      "WARNING: All log messages before absl::InitializeLog() is called are written to STDERR\n",
      "I0000 00:00:1733230955.000334      67 service.cc:145] XLA service 0x7f38d0004750 initialized for platform CUDA (this does not guarantee that XLA will be used). Devices:\n",
      "I0000 00:00:1733230955.000390      67 service.cc:153]   StreamExecutor device (0): Tesla T4, Compute Capability 7.5\n",
      "I0000 00:00:1733230955.000394      67 service.cc:153]   StreamExecutor device (1): Tesla T4, Compute Capability 7.5\n"
     ]
    },
    {
     "name": "stdout",
     "output_type": "stream",
     "text": [
      "\u001b[1m 133/2531\u001b[0m \u001b[32m━\u001b[0m\u001b[37m━━━━━━━━━━━━━━━━━━━\u001b[0m \u001b[1m2s\u001b[0m 1ms/step - loss: 3.5801"
     ]
    },
    {
     "name": "stderr",
     "output_type": "stream",
     "text": [
      "I0000 00:00:1733230955.633699      67 device_compiler.h:188] Compiled cluster using XLA!  This line is logged at most once for the lifetime of the process.\n"
     ]
    },
    {
     "name": "stdout",
     "output_type": "stream",
     "text": [
      "\u001b[1m2531/2531\u001b[0m \u001b[32m━━━━━━━━━━━━━━━━━━━━\u001b[0m\u001b[37m\u001b[0m \u001b[1m5s\u001b[0m 1ms/step - loss: 2.6960 - val_loss: 0.7713\n",
      "Epoch 2/5\n",
      "\u001b[1m2531/2531\u001b[0m \u001b[32m━━━━━━━━━━━━━━━━━━━━\u001b[0m\u001b[37m\u001b[0m \u001b[1m3s\u001b[0m 1ms/step - loss: 0.7469 - val_loss: 0.7318\n",
      "Epoch 3/5\n",
      "\u001b[1m2531/2531\u001b[0m \u001b[32m━━━━━━━━━━━━━━━━━━━━\u001b[0m\u001b[37m\u001b[0m \u001b[1m3s\u001b[0m 1ms/step - loss: 0.7167 - val_loss: 0.7213\n",
      "Epoch 4/5\n",
      "\u001b[1m2531/2531\u001b[0m \u001b[32m━━━━━━━━━━━━━━━━━━━━\u001b[0m\u001b[37m\u001b[0m \u001b[1m3s\u001b[0m 1ms/step - loss: 0.6968 - val_loss: 0.7112\n",
      "Epoch 5/5\n",
      "\u001b[1m2531/2531\u001b[0m \u001b[32m━━━━━━━━━━━━━━━━━━━━\u001b[0m\u001b[37m\u001b[0m \u001b[1m3s\u001b[0m 1ms/step - loss: 0.6768 - val_loss: 0.7048\n",
      "\u001b[1m5625/5625\u001b[0m \u001b[32m━━━━━━━━━━━━━━━━━━━━\u001b[0m\u001b[37m\u001b[0m \u001b[1m7s\u001b[0m 1ms/step\n",
      "Mean Absolute Error (MAE): 0.7039015975243027\n"
     ]
    }
   ],
   "source": [
    "# 訓練模型\n",
    "model.fit(X_train, y_train, epochs=5, batch_size=256, verbose=1, validation_split=0.1)\n",
    "\n",
    "# 預測與計算 MAE\n",
    "y_pred = model.predict(X_test)\n",
    "mae = mean_absolute_error(y_test, y_pred)\n",
    "\n",
    "print(f\"Mean Absolute Error (MAE): {mae}\")"
   ]
  }
 ],
 "metadata": {
  "kaggle": {
   "accelerator": "nvidiaTeslaT4",
   "dataSources": [
    {
     "datasetId": 6220334,
     "sourceId": 10088306,
     "sourceType": "datasetVersion"
    }
   ],
   "dockerImageVersionId": 30805,
   "isGpuEnabled": true,
   "isInternetEnabled": true,
   "language": "python",
   "sourceType": "notebook"
  },
  "kernelspec": {
   "display_name": "Python 3",
   "language": "python",
   "name": "python3"
  },
  "language_info": {
   "codemirror_mode": {
    "name": "ipython",
    "version": 3
   },
   "file_extension": ".py",
   "mimetype": "text/x-python",
   "name": "python",
   "nbconvert_exporter": "python",
   "pygments_lexer": "ipython3",
   "version": "3.10.14"
  },
  "papermill": {
   "default_parameters": {},
   "duration": 46.647964,
   "end_time": "2024-12-03T13:03:04.456948",
   "environment_variables": {},
   "exception": null,
   "input_path": "__notebook__.ipynb",
   "output_path": "__notebook__.ipynb",
   "parameters": {},
   "start_time": "2024-12-03T13:02:17.808984",
   "version": "2.6.0"
  }
 },
 "nbformat": 4,
 "nbformat_minor": 5
}
