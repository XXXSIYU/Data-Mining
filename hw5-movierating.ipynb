{
 "cells": [
  {
   "cell_type": "code",
   "execution_count": 1,
   "id": "35a981b3",
   "metadata": {
    "_cell_guid": "b1076dfc-b9ad-4769-8c92-a6c4dae69d19",
    "_uuid": "8f2839f25d086af736a60e9eeb907d3b93b6e0e5",
    "execution": {
     "iopub.execute_input": "2024-12-05T09:53:41.874450Z",
     "iopub.status.busy": "2024-12-05T09:53:41.874127Z",
     "iopub.status.idle": "2024-12-05T09:53:42.559977Z",
     "shell.execute_reply": "2024-12-05T09:53:42.558940Z"
    },
    "papermill": {
     "duration": 0.692247,
     "end_time": "2024-12-05T09:53:42.561818",
     "exception": false,
     "start_time": "2024-12-05T09:53:41.869571",
     "status": "completed"
    },
    "tags": []
   },
   "outputs": [
    {
     "name": "stdout",
     "output_type": "stream",
     "text": [
      "/kaggle/input/movierating/movieRating.csv\n"
     ]
    }
   ],
   "source": [
    "# This Python 3 environment comes with many helpful analytics libraries installed\n",
    "# It is defined by the kaggle/python Docker image: https://github.com/kaggle/docker-python\n",
    "# For example, here's several helpful packages to load\n",
    "\n",
    "import numpy as np # linear algebra\n",
    "import pandas as pd # data processing, CSV file I/O (e.g. pd.read_csv)\n",
    "\n",
    "# Input data files are available in the read-only \"../input/\" directory\n",
    "# For example, running this (by clicking run or pressing Shift+Enter) will list all files under the input directory\n",
    "\n",
    "import os\n",
    "for dirname, _, filenames in os.walk('/kaggle/input'):\n",
    "    for filename in filenames:\n",
    "        print(os.path.join(dirname, filename))\n",
    "\n",
    "# You can write up to 20GB to the current directory (/kaggle/working/) that gets preserved as output when you create a version using \"Save & Run All\" \n",
    "# You can also write temporary files to /kaggle/temp/, but they won't be saved outside of the current session"
   ]
  },
  {
   "cell_type": "code",
   "execution_count": 2,
   "id": "d376a868",
   "metadata": {
    "execution": {
     "iopub.execute_input": "2024-12-05T09:53:42.568232Z",
     "iopub.status.busy": "2024-12-05T09:53:42.567873Z",
     "iopub.status.idle": "2024-12-05T09:53:54.960531Z",
     "shell.execute_reply": "2024-12-05T09:53:54.959574Z"
    },
    "papermill": {
     "duration": 12.398214,
     "end_time": "2024-12-05T09:53:54.962862",
     "exception": false,
     "start_time": "2024-12-05T09:53:42.564648",
     "status": "completed"
    },
    "tags": []
   },
   "outputs": [],
   "source": [
    "# 匯入必要的套件\n",
    "import pandas as pd\n",
    "import numpy as np\n",
    "from sklearn.model_selection import train_test_split\n",
    "from sklearn.metrics import mean_absolute_error\n",
    "from keras.models import Model\n",
    "from keras.layers import Input, Embedding, Flatten, Dot, Add, Dense\n",
    "from keras.optimizers import Adam\n",
    "from keras.regularizers import l2\n",
    "import matplotlib.pyplot as plt"
   ]
  },
  {
   "cell_type": "code",
   "execution_count": 3,
   "id": "fa51c15e",
   "metadata": {
    "execution": {
     "iopub.execute_input": "2024-12-05T09:53:54.969852Z",
     "iopub.status.busy": "2024-12-05T09:53:54.969373Z",
     "iopub.status.idle": "2024-12-05T09:53:55.319847Z",
     "shell.execute_reply": "2024-12-05T09:53:55.319125Z"
    },
    "papermill": {
     "duration": 0.356123,
     "end_time": "2024-12-05T09:53:55.322044",
     "exception": false,
     "start_time": "2024-12-05T09:53:54.965921",
     "status": "completed"
    },
    "tags": []
   },
   "outputs": [],
   "source": [
    "# 讀取資料\n",
    "file_path = \"/kaggle/input/movierating/movieRating.csv\"\n",
    "movie_data = pd.read_csv(file_path)\n"
   ]
  },
  {
   "cell_type": "code",
   "execution_count": 4,
   "id": "8e2b6ceb",
   "metadata": {
    "execution": {
     "iopub.execute_input": "2024-12-05T09:53:55.328635Z",
     "iopub.status.busy": "2024-12-05T09:53:55.328345Z",
     "iopub.status.idle": "2024-12-05T09:53:55.428818Z",
     "shell.execute_reply": "2024-12-05T09:53:55.427835Z"
    },
    "papermill": {
     "duration": 0.105851,
     "end_time": "2024-12-05T09:53:55.430901",
     "exception": false,
     "start_time": "2024-12-05T09:53:55.325050",
     "status": "completed"
    },
    "tags": []
   },
   "outputs": [],
   "source": [
    "# 隨機打散並分割資料\n",
    "train_data, test_data = train_test_split(movie_data, test_size=0.2, random_state=42, shuffle=True)\n",
    "\n",
    "# 映射 UserID 和 MovieID 到索引\n",
    "user_ids = movie_data['UserID'].unique()\n",
    "movie_ids = movie_data['MovieID'].unique()\n",
    "\n",
    "user_to_index = {user_id: idx for idx, user_id in enumerate(user_ids)}\n",
    "movie_to_index = {movie_id: idx for idx, movie_id in enumerate(movie_ids)}"
   ]
  },
  {
   "cell_type": "code",
   "execution_count": 5,
   "id": "fbd949ef",
   "metadata": {
    "execution": {
     "iopub.execute_input": "2024-12-05T09:53:55.437316Z",
     "iopub.status.busy": "2024-12-05T09:53:55.437044Z",
     "iopub.status.idle": "2024-12-05T09:53:55.502444Z",
     "shell.execute_reply": "2024-12-05T09:53:55.501676Z"
    },
    "papermill": {
     "duration": 0.070856,
     "end_time": "2024-12-05T09:53:55.504504",
     "exception": false,
     "start_time": "2024-12-05T09:53:55.433648",
     "status": "completed"
    },
    "tags": []
   },
   "outputs": [],
   "source": [
    "# 新增索引欄位\n",
    "train_data['UserIndex'] = train_data['UserID'].map(user_to_index)\n",
    "train_data['MovieIndex'] = train_data['MovieID'].map(movie_to_index)\n",
    "test_data['UserIndex'] = test_data['UserID'].map(user_to_index)\n",
    "test_data['MovieIndex'] = test_data['MovieID'].map(movie_to_index)"
   ]
  },
  {
   "cell_type": "code",
   "execution_count": 6,
   "id": "28e1ff74",
   "metadata": {
    "execution": {
     "iopub.execute_input": "2024-12-05T09:53:55.510896Z",
     "iopub.status.busy": "2024-12-05T09:53:55.510624Z",
     "iopub.status.idle": "2024-12-05T09:53:55.571030Z",
     "shell.execute_reply": "2024-12-05T09:53:55.570144Z"
    },
    "papermill": {
     "duration": 0.065576,
     "end_time": "2024-12-05T09:53:55.572782",
     "exception": false,
     "start_time": "2024-12-05T09:53:55.507206",
     "status": "completed"
    },
    "tags": []
   },
   "outputs": [],
   "source": [
    "# 新增索引欄位\n",
    "train_data['UserIndex'] = train_data['UserID'].map(user_to_index)\n",
    "train_data['MovieIndex'] = train_data['MovieID'].map(movie_to_index)\n",
    "test_data['UserIndex'] = test_data['UserID'].map(user_to_index)\n",
    "test_data['MovieIndex'] = test_data['MovieID'].map(movie_to_index)\n"
   ]
  },
  {
   "cell_type": "code",
   "execution_count": 7,
   "id": "8c109228",
   "metadata": {
    "execution": {
     "iopub.execute_input": "2024-12-05T09:53:55.579892Z",
     "iopub.status.busy": "2024-12-05T09:53:55.579651Z",
     "iopub.status.idle": "2024-12-05T09:53:56.356275Z",
     "shell.execute_reply": "2024-12-05T09:53:56.355530Z"
    },
    "papermill": {
     "duration": 0.781823,
     "end_time": "2024-12-05T09:53:56.358205",
     "exception": false,
     "start_time": "2024-12-05T09:53:55.576382",
     "status": "completed"
    },
    "tags": []
   },
   "outputs": [],
   "source": [
    "# 定義矩陣分解模型\n",
    "n_users = len(user_ids)\n",
    "n_movies = len(movie_ids)\n",
    "embedding_size = 100  # 增加嵌入維度\n",
    "\n",
    "user_input = Input(shape=(1,))\n",
    "movie_input = Input(shape=(1,))\n",
    "\n",
    "user_embedding = Embedding(input_dim=n_users, output_dim=embedding_size, embeddings_regularizer=l2(1e-6))(user_input)\n",
    "movie_embedding = Embedding(input_dim=n_movies, output_dim=embedding_size, embeddings_regularizer=l2(1e-6))(movie_input)\n",
    "\n",
    "user_vec = Flatten()(user_embedding)\n",
    "movie_vec = Flatten()(movie_embedding)"
   ]
  },
  {
   "cell_type": "code",
   "execution_count": 8,
   "id": "b5397924",
   "metadata": {
    "execution": {
     "iopub.execute_input": "2024-12-05T09:53:56.364509Z",
     "iopub.status.busy": "2024-12-05T09:53:56.364259Z",
     "iopub.status.idle": "2024-12-05T09:53:56.379178Z",
     "shell.execute_reply": "2024-12-05T09:53:56.378550Z"
    },
    "papermill": {
     "duration": 0.020101,
     "end_time": "2024-12-05T09:53:56.380898",
     "exception": false,
     "start_time": "2024-12-05T09:53:56.360797",
     "status": "completed"
    },
    "tags": []
   },
   "outputs": [],
   "source": [
    "# 加入偏置項\n",
    "user_bias = Embedding(input_dim=n_users, output_dim=1)(user_input)\n",
    "movie_bias = Embedding(input_dim=n_movies, output_dim=1)(movie_input)\n",
    "\n",
    "user_bias = Flatten()(user_bias)\n",
    "movie_bias = Flatten()(movie_bias)\n"
   ]
  },
  {
   "cell_type": "code",
   "execution_count": 9,
   "id": "268195fc",
   "metadata": {
    "execution": {
     "iopub.execute_input": "2024-12-05T09:53:56.386763Z",
     "iopub.status.busy": "2024-12-05T09:53:56.386531Z",
     "iopub.status.idle": "2024-12-05T09:53:56.410647Z",
     "shell.execute_reply": "2024-12-05T09:53:56.409895Z"
    },
    "papermill": {
     "duration": 0.028794,
     "end_time": "2024-12-05T09:53:56.412201",
     "exception": false,
     "start_time": "2024-12-05T09:53:56.383407",
     "status": "completed"
    },
    "tags": []
   },
   "outputs": [],
   "source": [
    "# 預測\n",
    "dot_product = Dot(axes=1)([user_vec, movie_vec])\n",
    "prediction = Add()([dot_product, user_bias, movie_bias])\n",
    "\n",
    "# 建立模型\n",
    "model = Model(inputs=[user_input, movie_input], outputs=prediction)\n",
    "model.compile(optimizer=Adam(learning_rate=0.001), loss='mean_squared_error')"
   ]
  },
  {
   "cell_type": "code",
   "execution_count": 10,
   "id": "49d912c1",
   "metadata": {
    "execution": {
     "iopub.execute_input": "2024-12-05T09:53:56.418122Z",
     "iopub.status.busy": "2024-12-05T09:53:56.417825Z",
     "iopub.status.idle": "2024-12-05T09:54:33.151339Z",
     "shell.execute_reply": "2024-12-05T09:54:33.150452Z"
    },
    "papermill": {
     "duration": 36.738997,
     "end_time": "2024-12-05T09:54:33.153689",
     "exception": false,
     "start_time": "2024-12-05T09:53:56.414692",
     "status": "completed"
    },
    "tags": []
   },
   "outputs": [
    {
     "name": "stdout",
     "output_type": "stream",
     "text": [
      "Epoch 1/10\n"
     ]
    },
    {
     "name": "stderr",
     "output_type": "stream",
     "text": [
      "WARNING: All log messages before absl::InitializeLog() is called are written to STDERR\n",
      "I0000 00:00:1733392437.495772      65 service.cc:145] XLA service 0x7d89d0005f60 initialized for platform CUDA (this does not guarantee that XLA will be used). Devices:\n",
      "I0000 00:00:1733392437.495834      65 service.cc:153]   StreamExecutor device (0): Tesla P100-PCIE-16GB, Compute Capability 6.0\n"
     ]
    },
    {
     "name": "stdout",
     "output_type": "stream",
     "text": [
      "\u001b[1m 121/2531\u001b[0m \u001b[37m━━━━━━━━━━━━━━━━━━━━\u001b[0m \u001b[1m3s\u001b[0m 1ms/step - loss: 13.9705"
     ]
    },
    {
     "name": "stderr",
     "output_type": "stream",
     "text": [
      "I0000 00:00:1733392438.465720      65 device_compiler.h:188] Compiled cluster using XLA!  This line is logged at most once for the lifetime of the process.\n"
     ]
    },
    {
     "name": "stdout",
     "output_type": "stream",
     "text": [
      "\u001b[1m2531/2531\u001b[0m \u001b[32m━━━━━━━━━━━━━━━━━━━━\u001b[0m\u001b[37m\u001b[0m \u001b[1m6s\u001b[0m 2ms/step - loss: 8.4721 - val_loss: 0.9395\n",
      "Epoch 2/10\n",
      "\u001b[1m2531/2531\u001b[0m \u001b[32m━━━━━━━━━━━━━━━━━━━━\u001b[0m\u001b[37m\u001b[0m \u001b[1m3s\u001b[0m 1ms/step - loss: 0.8919 - val_loss: 0.8582\n",
      "Epoch 3/10\n",
      "\u001b[1m2531/2531\u001b[0m \u001b[32m━━━━━━━━━━━━━━━━━━━━\u001b[0m\u001b[37m\u001b[0m \u001b[1m3s\u001b[0m 1ms/step - loss: 0.7984 - val_loss: 0.8279\n",
      "Epoch 4/10\n",
      "\u001b[1m2531/2531\u001b[0m \u001b[32m━━━━━━━━━━━━━━━━━━━━\u001b[0m\u001b[37m\u001b[0m \u001b[1m3s\u001b[0m 1ms/step - loss: 0.7293 - val_loss: 0.8133\n",
      "Epoch 5/10\n",
      "\u001b[1m2531/2531\u001b[0m \u001b[32m━━━━━━━━━━━━━━━━━━━━\u001b[0m\u001b[37m\u001b[0m \u001b[1m3s\u001b[0m 1ms/step - loss: 0.6582 - val_loss: 0.8124\n",
      "Epoch 6/10\n",
      "\u001b[1m2531/2531\u001b[0m \u001b[32m━━━━━━━━━━━━━━━━━━━━\u001b[0m\u001b[37m\u001b[0m \u001b[1m3s\u001b[0m 1ms/step - loss: 0.5798 - val_loss: 0.8178\n",
      "Epoch 7/10\n",
      "\u001b[1m2531/2531\u001b[0m \u001b[32m━━━━━━━━━━━━━━━━━━━━\u001b[0m\u001b[37m\u001b[0m \u001b[1m3s\u001b[0m 1ms/step - loss: 0.5027 - val_loss: 0.8448\n",
      "Epoch 8/10\n",
      "\u001b[1m2531/2531\u001b[0m \u001b[32m━━━━━━━━━━━━━━━━━━━━\u001b[0m\u001b[37m\u001b[0m \u001b[1m3s\u001b[0m 1ms/step - loss: 0.4300 - val_loss: 0.8777\n",
      "Epoch 9/10\n",
      "\u001b[1m2531/2531\u001b[0m \u001b[32m━━━━━━━━━━━━━━━━━━━━\u001b[0m\u001b[37m\u001b[0m \u001b[1m3s\u001b[0m 1ms/step - loss: 0.3695 - val_loss: 0.9114\n",
      "Epoch 10/10\n",
      "\u001b[1m2531/2531\u001b[0m \u001b[32m━━━━━━━━━━━━━━━━━━━━\u001b[0m\u001b[37m\u001b[0m \u001b[1m3s\u001b[0m 1ms/step - loss: 0.3239 - val_loss: 0.9475\n"
     ]
    }
   ],
   "source": [
    "# 準備資料\n",
    "X_train = [train_data['UserIndex'].values, train_data['MovieIndex'].values]\n",
    "y_train = train_data['Rating'].values\n",
    "\n",
    "X_test = [test_data['UserIndex'].values, test_data['MovieIndex'].values]\n",
    "y_test = test_data['Rating'].values\n",
    "\n",
    "# 訓練模型\n",
    "history = model.fit(X_train, y_train, epochs=10, batch_size=256, verbose=1, validation_split=0.1)\n"
   ]
  },
  {
   "cell_type": "code",
   "execution_count": 11,
   "id": "7eecb72e",
   "metadata": {
    "execution": {
     "iopub.execute_input": "2024-12-05T09:54:33.222616Z",
     "iopub.status.busy": "2024-12-05T09:54:33.222312Z",
     "iopub.status.idle": "2024-12-05T09:54:43.617437Z",
     "shell.execute_reply": "2024-12-05T09:54:43.616413Z"
    },
    "papermill": {
     "duration": 10.427578,
     "end_time": "2024-12-05T09:54:43.619295",
     "exception": false,
     "start_time": "2024-12-05T09:54:33.191717",
     "status": "completed"
    },
    "tags": []
   },
   "outputs": [
    {
     "data": {
      "image/png": "[encoded data removed]",
      "text/plain": [
       "<Figure size 640x480 with 1 Axes>"
      ]
     },
     "metadata": {},
     "output_type": "display_data"
    },
    {
     "name": "stdout",
     "output_type": "stream",
     "text": [
      "\u001b[1m5625/5625\u001b[0m \u001b[32m━━━━━━━━━━━━━━━━━━━━\u001b[0m\u001b[37m\u001b[0m \u001b[1m7s\u001b[0m 1ms/step\n",
      "Mean Absolute Error (MAE): 0.7377314942174776\n"
     ]
    }
   ],
   "source": [
    "# 繪製訓練和驗證損失曲線\n",
    "plt.plot(history.history['loss'], label='Training Loss')\n",
    "plt.plot(history.history['val_loss'], label='Validation Loss')\n",
    "plt.title(\"Loss Curves\")\n",
    "plt.xlabel(\"Epochs\")\n",
    "plt.ylabel(\"Loss\")\n",
    "plt.legend()\n",
    "plt.show()\n",
    "\n",
    "# 預測與計算 MAE\n",
    "y_pred = model.predict(X_test)\n",
    "mae = mean_absolute_error(y_test, y_pred)\n",
    "\n",
    "print(f\"Mean Absolute Error (MAE): {mae}\")"
   ]
  }
 ],
 "metadata": {
  "kaggle": {
   "accelerator": "gpu",
   "dataSources": [
    {
     "datasetId": 6220334,
     "sourceId": 10088306,
     "sourceType": "datasetVersion"
    }
   ],
   "dockerImageVersionId": 30805,
   "isGpuEnabled": true,
   "isInternetEnabled": true,
   "language": "python",
   "sourceType": "notebook"
  },
  "kernelspec": {
   "display_name": "Python 3",
   "language": "python",
   "name": "python3"
  },
  "language_info": {
   "codemirror_mode": {
    "name": "ipython",
    "version": 3
   },
   "file_extension": ".py",
   "mimetype": "text/x-python",
   "name": "python",
   "nbconvert_exporter": "python",
   "pygments_lexer": "ipython3",
   "version": "3.10.14"
  },
  "papermill": {
   "default_parameters": {},
   "duration": 66.669975,
   "end_time": "2024-12-05T09:54:46.120673",
   "environment_variables": {},
   "exception": null,
   "input_path": "__notebook__.ipynb",
   "output_path": "__notebook__.ipynb",
   "parameters": {},
   "start_time": "2024-12-05T09:53:39.450698",
   "version": "2.6.0"
  }
 },
 "nbformat": 4,
 "nbformat_minor": 5
}
