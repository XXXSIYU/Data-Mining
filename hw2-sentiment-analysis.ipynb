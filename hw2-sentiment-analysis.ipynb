{
 "cells": [
  {
   "cell_type": "code",
   "execution_count": 1,
   "id": "ad7dfe94",
   "metadata": {
    "_cell_guid": "b1076dfc-b9ad-4769-8c92-a6c4dae69d19",
    "_uuid": "8f2839f25d086af736a60e9eeb907d3b93b6e0e5",
    "execution": {
     "iopub.execute_input": "2024-10-15T06:36:29.519651Z",
     "iopub.status.busy": "2024-10-15T06:36:29.519268Z",
     "iopub.status.idle": "2024-10-15T06:36:30.304257Z",
     "shell.execute_reply": "2024-10-15T06:36:30.303211Z"
    },
    "papermill": {
     "duration": 0.793211,
     "end_time": "2024-10-15T06:36:30.306724",
     "exception": false,
     "start_time": "2024-10-15T06:36:29.513513",
     "status": "completed"
    },
    "tags": []
   },
   "outputs": [
    {
     "name": "stdout",
     "output_type": "stream",
     "text": [
      "/kaggle/input/amazon-fine-food-reviews/hashes.txt\n",
      "/kaggle/input/amazon-fine-food-reviews/Reviews.csv\n",
      "/kaggle/input/amazon-fine-food-reviews/database.sqlite\n"
     ]
    }
   ],
   "source": [
    "# This Python 3 environment comes with many helpful analytics libraries installed\n",
    "# It is defined by the kaggle/python Docker image: https://github.com/kaggle/docker-python\n",
    "# For example, here's several helpful packages to load\n",
    "\n",
    "import numpy as np # linear algebra\n",
    "import pandas as pd # data processing, CSV file I/O (e.g. pd.read_csv)\n",
    "\n",
    "# Input data files are available in the read-only \"../input/\" directory\n",
    "# For example, running this (by clicking run or pressing Shift+Enter) will list all files under the input directory\n",
    "\n",
    "import os\n",
    "for dirname, _, filenames in os.walk('/kaggle/input'):\n",
    "    for filename in filenames:\n",
    "        print(os.path.join(dirname, filename))\n",
    "\n",
    "# You can write up to 20GB to the current directory (/kaggle/working/) that gets preserved as output when you create a version using \"Save & Run All\" \n",
    "# You can also write temporary files to /kaggle/temp/, but they won't be saved outside of the current session"
   ]
  },
  {
   "cell_type": "code",
   "execution_count": 2,
   "id": "700b291c",
   "metadata": {
    "execution": {
     "iopub.execute_input": "2024-10-15T06:36:30.315810Z",
     "iopub.status.busy": "2024-10-15T06:36:30.315350Z",
     "iopub.status.idle": "2024-10-15T06:36:37.276976Z",
     "shell.execute_reply": "2024-10-15T06:36:37.275893Z"
    },
    "papermill": {
     "duration": 6.968538,
     "end_time": "2024-10-15T06:36:37.279283",
     "exception": false,
     "start_time": "2024-10-15T06:36:30.310745",
     "status": "completed"
    },
    "tags": []
   },
   "outputs": [
    {
     "data": {
      "text/html": [
       "<div>\n",
       "<style scoped>\n",
       "    .dataframe tbody tr th:only-of-type {\n",
       "        vertical-align: middle;\n",
       "    }\n",
       "\n",
       "    .dataframe tbody tr th {\n",
       "        vertical-align: top;\n",
       "    }\n",
       "\n",
       "    .dataframe thead th {\n",
       "        text-align: right;\n",
       "    }\n",
       "</style>\n",
       "<table border=\"1\" class=\"dataframe\">\n",
       "  <thead>\n",
       "    <tr style=\"text-align: right;\">\n",
       "      <th></th>\n",
       "      <th>Id</th>\n",
       "      <th>ProductId</th>\n",
       "      <th>UserId</th>\n",
       "      <th>ProfileName</th>\n",
       "      <th>HelpfulnessNumerator</th>\n",
       "      <th>HelpfulnessDenominator</th>\n",
       "      <th>Score</th>\n",
       "      <th>Time</th>\n",
       "      <th>Summary</th>\n",
       "      <th>Text</th>\n",
       "    </tr>\n",
       "  </thead>\n",
       "  <tbody>\n",
       "    <tr>\n",
       "      <th>0</th>\n",
       "      <td>1</td>\n",
       "      <td>B001E4KFG0</td>\n",
       "      <td>A3SGXH7AUHU8GW</td>\n",
       "      <td>delmartian</td>\n",
       "      <td>1</td>\n",
       "      <td>1</td>\n",
       "      <td>5</td>\n",
       "      <td>1303862400</td>\n",
       "      <td>Good Quality Dog Food</td>\n",
       "      <td>I have bought several of the Vitality canned d...</td>\n",
       "    </tr>\n",
       "    <tr>\n",
       "      <th>1</th>\n",
       "      <td>2</td>\n",
       "      <td>B00813GRG4</td>\n",
       "      <td>A1D87F6ZCVE5NK</td>\n",
       "      <td>dll pa</td>\n",
       "      <td>0</td>\n",
       "      <td>0</td>\n",
       "      <td>1</td>\n",
       "      <td>1346976000</td>\n",
       "      <td>Not as Advertised</td>\n",
       "      <td>Product arrived labeled as Jumbo Salted Peanut...</td>\n",
       "    </tr>\n",
       "    <tr>\n",
       "      <th>2</th>\n",
       "      <td>3</td>\n",
       "      <td>B000LQOCH0</td>\n",
       "      <td>ABXLMWJIXXAIN</td>\n",
       "      <td>Natalia Corres \"Natalia Corres\"</td>\n",
       "      <td>1</td>\n",
       "      <td>1</td>\n",
       "      <td>4</td>\n",
       "      <td>1219017600</td>\n",
       "      <td>\"Delight\" says it all</td>\n",
       "      <td>This is a confection that has been around a fe...</td>\n",
       "    </tr>\n",
       "    <tr>\n",
       "      <th>3</th>\n",
       "      <td>4</td>\n",
       "      <td>B000UA0QIQ</td>\n",
       "      <td>A395BORC6FGVXV</td>\n",
       "      <td>Karl</td>\n",
       "      <td>3</td>\n",
       "      <td>3</td>\n",
       "      <td>2</td>\n",
       "      <td>1307923200</td>\n",
       "      <td>Cough Medicine</td>\n",
       "      <td>If you are looking for the secret ingredient i...</td>\n",
       "    </tr>\n",
       "    <tr>\n",
       "      <th>4</th>\n",
       "      <td>5</td>\n",
       "      <td>B006K2ZZ7K</td>\n",
       "      <td>A1UQRSCLF8GW1T</td>\n",
       "      <td>Michael D. Bigham \"M. Wassir\"</td>\n",
       "      <td>0</td>\n",
       "      <td>0</td>\n",
       "      <td>5</td>\n",
       "      <td>1350777600</td>\n",
       "      <td>Great taffy</td>\n",
       "      <td>Great taffy at a great price.  There was a wid...</td>\n",
       "    </tr>\n",
       "    <tr>\n",
       "      <th>...</th>\n",
       "      <td>...</td>\n",
       "      <td>...</td>\n",
       "      <td>...</td>\n",
       "      <td>...</td>\n",
       "      <td>...</td>\n",
       "      <td>...</td>\n",
       "      <td>...</td>\n",
       "      <td>...</td>\n",
       "      <td>...</td>\n",
       "      <td>...</td>\n",
       "    </tr>\n",
       "    <tr>\n",
       "      <th>568449</th>\n",
       "      <td>568450</td>\n",
       "      <td>B001EO7N10</td>\n",
       "      <td>A28KG5XORO54AY</td>\n",
       "      <td>Lettie D. Carter</td>\n",
       "      <td>0</td>\n",
       "      <td>0</td>\n",
       "      <td>5</td>\n",
       "      <td>1299628800</td>\n",
       "      <td>Will not do without</td>\n",
       "      <td>Great for sesame chicken..this is a good if no...</td>\n",
       "    </tr>\n",
       "    <tr>\n",
       "      <th>568450</th>\n",
       "      <td>568451</td>\n",
       "      <td>B003S1WTCU</td>\n",
       "      <td>A3I8AFVPEE8KI5</td>\n",
       "      <td>R. Sawyer</td>\n",
       "      <td>0</td>\n",
       "      <td>0</td>\n",
       "      <td>2</td>\n",
       "      <td>1331251200</td>\n",
       "      <td>disappointed</td>\n",
       "      <td>I'm disappointed with the flavor. The chocolat...</td>\n",
       "    </tr>\n",
       "    <tr>\n",
       "      <th>568451</th>\n",
       "      <td>568452</td>\n",
       "      <td>B004I613EE</td>\n",
       "      <td>A121AA1GQV751Z</td>\n",
       "      <td>pksd \"pk_007\"</td>\n",
       "      <td>2</td>\n",
       "      <td>2</td>\n",
       "      <td>5</td>\n",
       "      <td>1329782400</td>\n",
       "      <td>Perfect for our maltipoo</td>\n",
       "      <td>These stars are small, so you can give 10-15 o...</td>\n",
       "    </tr>\n",
       "    <tr>\n",
       "      <th>568452</th>\n",
       "      <td>568453</td>\n",
       "      <td>B004I613EE</td>\n",
       "      <td>A3IBEVCTXKNOH</td>\n",
       "      <td>Kathy A. Welch \"katwel\"</td>\n",
       "      <td>1</td>\n",
       "      <td>1</td>\n",
       "      <td>5</td>\n",
       "      <td>1331596800</td>\n",
       "      <td>Favorite Training and reward treat</td>\n",
       "      <td>These are the BEST treats for training and rew...</td>\n",
       "    </tr>\n",
       "    <tr>\n",
       "      <th>568453</th>\n",
       "      <td>568454</td>\n",
       "      <td>B001LR2CU2</td>\n",
       "      <td>A3LGQPJCZVL9UC</td>\n",
       "      <td>srfell17</td>\n",
       "      <td>0</td>\n",
       "      <td>0</td>\n",
       "      <td>5</td>\n",
       "      <td>1338422400</td>\n",
       "      <td>Great Honey</td>\n",
       "      <td>I am very satisfied ,product is as advertised,...</td>\n",
       "    </tr>\n",
       "  </tbody>\n",
       "</table>\n",
       "<p>568454 rows × 10 columns</p>\n",
       "</div>"
      ],
      "text/plain": [
       "            Id   ProductId          UserId                      ProfileName  \\\n",
       "0            1  B001E4KFG0  A3SGXH7AUHU8GW                       delmartian   \n",
       "1            2  B00813GRG4  A1D87F6ZCVE5NK                           dll pa   \n",
       "2            3  B000LQOCH0   ABXLMWJIXXAIN  Natalia Corres \"Natalia Corres\"   \n",
       "3            4  B000UA0QIQ  A395BORC6FGVXV                             Karl   \n",
       "4            5  B006K2ZZ7K  A1UQRSCLF8GW1T    Michael D. Bigham \"M. Wassir\"   \n",
       "...        ...         ...             ...                              ...   \n",
       "568449  568450  B001EO7N10  A28KG5XORO54AY                 Lettie D. Carter   \n",
       "568450  568451  B003S1WTCU  A3I8AFVPEE8KI5                        R. Sawyer   \n",
       "568451  568452  B004I613EE  A121AA1GQV751Z                    pksd \"pk_007\"   \n",
       "568452  568453  B004I613EE   A3IBEVCTXKNOH          Kathy A. Welch \"katwel\"   \n",
       "568453  568454  B001LR2CU2  A3LGQPJCZVL9UC                         srfell17   \n",
       "\n",
       "        HelpfulnessNumerator  HelpfulnessDenominator  Score        Time  \\\n",
       "0                          1                       1      5  1303862400   \n",
       "1                          0                       0      1  1346976000   \n",
       "2                          1                       1      4  1219017600   \n",
       "3                          3                       3      2  1307923200   \n",
       "4                          0                       0      5  1350777600   \n",
       "...                      ...                     ...    ...         ...   \n",
       "568449                     0                       0      5  1299628800   \n",
       "568450                     0                       0      2  1331251200   \n",
       "568451                     2                       2      5  1329782400   \n",
       "568452                     1                       1      5  1331596800   \n",
       "568453                     0                       0      5  1338422400   \n",
       "\n",
       "                                   Summary  \\\n",
       "0                    Good Quality Dog Food   \n",
       "1                        Not as Advertised   \n",
       "2                    \"Delight\" says it all   \n",
       "3                           Cough Medicine   \n",
       "4                              Great taffy   \n",
       "...                                    ...   \n",
       "568449                 Will not do without   \n",
       "568450                        disappointed   \n",
       "568451            Perfect for our maltipoo   \n",
       "568452  Favorite Training and reward treat   \n",
       "568453                         Great Honey   \n",
       "\n",
       "                                                     Text  \n",
       "0       I have bought several of the Vitality canned d...  \n",
       "1       Product arrived labeled as Jumbo Salted Peanut...  \n",
       "2       This is a confection that has been around a fe...  \n",
       "3       If you are looking for the secret ingredient i...  \n",
       "4       Great taffy at a great price.  There was a wid...  \n",
       "...                                                   ...  \n",
       "568449  Great for sesame chicken..this is a good if no...  \n",
       "568450  I'm disappointed with the flavor. The chocolat...  \n",
       "568451  These stars are small, so you can give 10-15 o...  \n",
       "568452  These are the BEST treats for training and rew...  \n",
       "568453  I am very satisfied ,product is as advertised,...  \n",
       "\n",
       "[568454 rows x 10 columns]"
      ]
     },
     "execution_count": 2,
     "metadata": {},
     "output_type": "execute_result"
    }
   ],
   "source": [
    "pd.read_csv('/kaggle/input/amazon-fine-food-reviews/Reviews.csv')"
   ]
  },
  {
   "cell_type": "code",
   "execution_count": 3,
   "id": "e835291b",
   "metadata": {
    "execution": {
     "iopub.execute_input": "2024-10-15T06:36:37.288632Z",
     "iopub.status.busy": "2024-10-15T06:36:37.288308Z",
     "iopub.status.idle": "2024-10-15T06:36:40.409903Z",
     "shell.execute_reply": "2024-10-15T06:36:40.408897Z"
    },
    "papermill": {
     "duration": 3.12897,
     "end_time": "2024-10-15T06:36:40.412332",
     "exception": false,
     "start_time": "2024-10-15T06:36:37.283362",
     "status": "completed"
    },
    "tags": []
   },
   "outputs": [
    {
     "name": "stdout",
     "output_type": "stream",
     "text": [
      "      Score                                               Text\n",
      "0         5  I have bought several of the Vitality canned d...\n",
      "1         1  Product arrived labeled as Jumbo Salted Peanut...\n",
      "2         4  This is a confection that has been around a fe...\n",
      "3         2  If you are looking for the secret ingredient i...\n",
      "4         5  Great taffy at a great price.  There was a wid...\n",
      "...     ...                                                ...\n",
      "9995      1  we switched from the advance similac to the or...\n",
      "9996      5  Like the bad reviews say, the organic formula ...\n",
      "9997      5  I wanted to solely breastfeed but was unable t...\n",
      "9998      5  i love the fact that i can get this delieved t...\n",
      "9999      4  We have a 7 week old... He had gas and constip...\n",
      "\n",
      "[10000 rows x 2 columns]\n"
     ]
    }
   ],
   "source": [
    "# 讀取資料\n",
    "df = pd.read_csv('/kaggle/input/amazon-fine-food-reviews/Reviews.csv', usecols=['Text', 'Score'])\n",
    "df = df.head(10000)\n",
    "\n",
    "print(df)"
   ]
  },
  {
   "cell_type": "code",
   "execution_count": 4,
   "id": "c48bf6c2",
   "metadata": {
    "execution": {
     "iopub.execute_input": "2024-10-15T06:36:40.422800Z",
     "iopub.status.busy": "2024-10-15T06:36:40.422435Z",
     "iopub.status.idle": "2024-10-15T06:36:40.488261Z",
     "shell.execute_reply": "2024-10-15T06:36:40.487074Z"
    },
    "papermill": {
     "duration": 0.073368,
     "end_time": "2024-10-15T06:36:40.490398",
     "exception": false,
     "start_time": "2024-10-15T06:36:40.417030",
     "status": "completed"
    },
    "tags": []
   },
   "outputs": [
    {
     "name": "stdout",
     "output_type": "stream",
     "text": [
      "                                                   Text  Sentiment\n",
      "0     I have bought several of the Vitality canned d...          1\n",
      "1     Product arrived labeled as Jumbo Salted Peanut...          0\n",
      "2     This is a confection that has been around a fe...          1\n",
      "3     If you are looking for the secret ingredient i...          0\n",
      "4     Great taffy at a great price.  There was a wid...          1\n",
      "...                                                 ...        ...\n",
      "9995  we switched from the advance similac to the or...          0\n",
      "9996  Like the bad reviews say, the organic formula ...          1\n",
      "9997  I wanted to solely breastfeed but was unable t...          1\n",
      "9998  i love the fact that i can get this delieved t...          1\n",
      "9999  We have a 7 week old... He had gas and constip...          1\n",
      "\n",
      "[10000 rows x 2 columns]\n"
     ]
    }
   ],
   "source": [
    "# Score轉換為二元分類\n",
    "df['Sentiment'] = df['Score'].apply(lambda x: 1 if x >= 4 else 0)\n",
    "df = df[['Text', 'Sentiment']]\n",
    "\n",
    "print(df)"
   ]
  },
  {
   "cell_type": "code",
   "execution_count": 5,
   "id": "0f750467",
   "metadata": {
    "execution": {
     "iopub.execute_input": "2024-10-15T06:36:40.500281Z",
     "iopub.status.busy": "2024-10-15T06:36:40.499982Z",
     "iopub.status.idle": "2024-10-15T06:36:41.621911Z",
     "shell.execute_reply": "2024-10-15T06:36:41.620750Z"
    },
    "papermill": {
     "duration": 1.129546,
     "end_time": "2024-10-15T06:36:41.624357",
     "exception": false,
     "start_time": "2024-10-15T06:36:40.494811",
     "status": "completed"
    },
    "tags": []
   },
   "outputs": [
    {
     "name": "stdout",
     "output_type": "stream",
     "text": [
      "['detail', 'neither', 'of', 'when', 'yours', 'beyond', 'might', 'still', 'then', 'last', 'further', 'ltd', 'nobody', 'etc', 'hereupon', 'seemed', 'and', 'between', 'everywhere', 'via', 'though', 'twenty', 'herself', 'describe', 'that', 'seeming', 'them', 'nothing', 'see', 'down', 'in', 'one', 'least', 'a', 'here', 'sometimes', 'becoming', 'while', 'but', 'something', 'somehow', 'who', 'whenever', 'however', 'through', 'alone', 'interest', 'our', 'several', 'which', 'move', 'every', 'hers', 'these', 'since', 'else', 'will', 'two', 'or', 'whose', 'myself', 'sixty', 'call', 'fill', 'their', 'whom', 'indeed', 'where', 'within', 'often', 'already', 'elsewhere', 'what', 'keep', 'as', 'whereupon', 'now', 'wherever', 'beside', 'everything', 'fifteen', 'over', 'never', 'top', 'formerly', 'thereafter', 'system', 'are', 'she', 'eg', 'those', 'whole', 'twelve', 'first', 'either', 'former', 'being', 'please', 'anyhow', 'how', 'couldnt', 'if', 'may', 'thence', 'beforehand', 'against', 'until', 'rather', 'most', 'hereby', 'this', 'onto', 'across', 'nine', 'am', 'anywhere', 'done', 'front', 'without', 'well', 'could', 'on', 'five', 'her', 'others', 'noone', 'together', 'almost', 'around', 'yourself', 'anyway', 'always', 'before', 'ever', 'became', 'cry', 'below', 'thereby', 'become', 'along', 'towards', 'mine', 'have', 'behind', 'whether', 'his', 'about', 'amount', 'do', 'anyone', 'amoungst', 'therefore', 'herein', 'none', 'itself', 'nor', 'my', 'he', 'with', 'few', 'under', 'thus', 'has', 'some', 'him', 'de', 'amongst', 'us', 'take', 'less', 'would', 'somewhere', 'part', 'ourselves', 'besides', 'cannot', 'the', 'been', 'whatever', 'meanwhile', 'serious', 'nowhere', 'yet', 'whither', 'nevertheless', 'out', 'three', 'eleven', 'un', 'moreover', 'thereupon', 'himself', 'should', 'sometime', 'third', 'full', 'forty', 'off', 'otherwise', 'mill', 'wherein', 'get', 'any', 'eight', 'everyone', 'each', 'four', 'show', 'made', 'into', 'from', 'sincere', 'whoever', 'ours', 'we', 'anything', 'same', 'bottom', 'no', 'bill', 'give', 'latterly', 'whereafter', 'was', 'throughout', 'thin', 'had', 'for', 'latter', 'hereafter', 'to', 'per', 'at', 'among', 'ten', 'there', 'namely', 'why', 'thru', 'by', 'thick', 'found', 'inc', 'even', 'very', 'co', 'find', 'fifty', 'must', 'cant', 'go', 'except', 'six', 'mostly', 'upon', 'more', 'during', 'it', 'becomes', 'whence', 'put', 'also', 'con', 'yourselves', 'seems', 'perhaps', 'all', 'themselves', 'its', 'an', 'your', 'next', 'hasnt', 'much', 'back', 'can', 'such', 'both', 'once', 'therein', 'not', 'fire', 'whereby', 'hence', 'another', 'were', 'after', 'up', 'toward', 'i', 'too', 'me', 'so', 'ie', 'above', 'although', 'only', 'other', 'again', 'someone', 'side', 'they', 'own', 'whereas', 're', 'hundred', 'be', 'afterwards', 'many', 'than', 'empty', 'seem', 'name', 'due', 'enough', 'you', 'is', 'because', 'additional', 'words']\n"
     ]
    }
   ],
   "source": [
    "from sklearn.feature_extraction.text import ENGLISH_STOP_WORDS\n",
    "\n",
    "# 可以選擇擴展停頓詞\n",
    "stop_words = list(ENGLISH_STOP_WORDS) + ['additional', 'words']\n",
    "\n",
    "# 示例移除停頓詞\n",
    "print(stop_words)"
   ]
  },
  {
   "cell_type": "code",
   "execution_count": 6,
   "id": "cf0cbee6",
   "metadata": {
    "execution": {
     "iopub.execute_input": "2024-10-15T06:36:41.634762Z",
     "iopub.status.busy": "2024-10-15T06:36:41.634098Z",
     "iopub.status.idle": "2024-10-15T06:36:42.499205Z",
     "shell.execute_reply": "2024-10-15T06:36:42.498388Z"
    },
    "papermill": {
     "duration": 0.873019,
     "end_time": "2024-10-15T06:36:42.501972",
     "exception": false,
     "start_time": "2024-10-15T06:36:41.628953",
     "status": "completed"
    },
    "tags": []
   },
   "outputs": [],
   "source": [
    "from sklearn.feature_extraction.text import TfidfVectorizer\n",
    "\n",
    "# TF-IDF 向量化\n",
    "tfidf = TfidfVectorizer(stop_words=stop_words)\n",
    "X_tfidf = tfidf.fit_transform(df['Text'])\n"
   ]
  },
  {
   "cell_type": "code",
   "execution_count": 7,
   "id": "736713b8",
   "metadata": {
    "execution": {
     "iopub.execute_input": "2024-10-15T06:36:42.514483Z",
     "iopub.status.busy": "2024-10-15T06:36:42.514164Z",
     "iopub.status.idle": "2024-10-15T06:36:57.599317Z",
     "shell.execute_reply": "2024-10-15T06:36:57.597934Z"
    },
    "papermill": {
     "duration": 15.095729,
     "end_time": "2024-10-15T06:36:57.603032",
     "exception": false,
     "start_time": "2024-10-15T06:36:42.507303",
     "status": "completed"
    },
    "tags": []
   },
   "outputs": [],
   "source": [
    "from gensim.models import Word2Vec\n",
    "# 假設已經對Text進行了tokenization\n",
    "sentences = [text.split() for text in df['Text']]\n",
    "model = Word2Vec(sentences, vector_size=100, window=5, min_count=1, workers=4)\n"
   ]
  },
  {
   "cell_type": "code",
   "execution_count": 8,
   "id": "8eaad73d",
   "metadata": {
    "execution": {
     "iopub.execute_input": "2024-10-15T06:36:57.619814Z",
     "iopub.status.busy": "2024-10-15T06:36:57.619025Z",
     "iopub.status.idle": "2024-10-15T06:37:14.026109Z",
     "shell.execute_reply": "2024-10-15T06:37:14.025115Z"
    },
    "papermill": {
     "duration": 16.417681,
     "end_time": "2024-10-15T06:37:14.028366",
     "exception": false,
     "start_time": "2024-10-15T06:36:57.610685",
     "status": "completed"
    },
    "tags": []
   },
   "outputs": [
    {
     "data": {
      "text/html": [
       "<style>#sk-container-id-1 {color: black;background-color: white;}#sk-container-id-1 pre{padding: 0;}#sk-container-id-1 div.sk-toggleable {background-color: white;}#sk-container-id-1 label.sk-toggleable__label {cursor: pointer;display: block;width: 100%;margin-bottom: 0;padding: 0.3em;box-sizing: border-box;text-align: center;}#sk-container-id-1 label.sk-toggleable__label-arrow:before {content: \"▸\";float: left;margin-right: 0.25em;color: #696969;}#sk-container-id-1 label.sk-toggleable__label-arrow:hover:before {color: black;}#sk-container-id-1 div.sk-estimator:hover label.sk-toggleable__label-arrow:before {color: black;}#sk-container-id-1 div.sk-toggleable__content {max-height: 0;max-width: 0;overflow: hidden;text-align: left;background-color: #f0f8ff;}#sk-container-id-1 div.sk-toggleable__content pre {margin: 0.2em;color: black;border-radius: 0.25em;background-color: #f0f8ff;}#sk-container-id-1 input.sk-toggleable__control:checked~div.sk-toggleable__content {max-height: 200px;max-width: 100%;overflow: auto;}#sk-container-id-1 input.sk-toggleable__control:checked~label.sk-toggleable__label-arrow:before {content: \"▾\";}#sk-container-id-1 div.sk-estimator input.sk-toggleable__control:checked~label.sk-toggleable__label {background-color: #d4ebff;}#sk-container-id-1 div.sk-label input.sk-toggleable__control:checked~label.sk-toggleable__label {background-color: #d4ebff;}#sk-container-id-1 input.sk-hidden--visually {border: 0;clip: rect(1px 1px 1px 1px);clip: rect(1px, 1px, 1px, 1px);height: 1px;margin: -1px;overflow: hidden;padding: 0;position: absolute;width: 1px;}#sk-container-id-1 div.sk-estimator {font-family: monospace;background-color: #f0f8ff;border: 1px dotted black;border-radius: 0.25em;box-sizing: border-box;margin-bottom: 0.5em;}#sk-container-id-1 div.sk-estimator:hover {background-color: #d4ebff;}#sk-container-id-1 div.sk-parallel-item::after {content: \"\";width: 100%;border-bottom: 1px solid gray;flex-grow: 1;}#sk-container-id-1 div.sk-label:hover label.sk-toggleable__label {background-color: #d4ebff;}#sk-container-id-1 div.sk-serial::before {content: \"\";position: absolute;border-left: 1px solid gray;box-sizing: border-box;top: 0;bottom: 0;left: 50%;z-index: 0;}#sk-container-id-1 div.sk-serial {display: flex;flex-direction: column;align-items: center;background-color: white;padding-right: 0.2em;padding-left: 0.2em;position: relative;}#sk-container-id-1 div.sk-item {position: relative;z-index: 1;}#sk-container-id-1 div.sk-parallel {display: flex;align-items: stretch;justify-content: center;background-color: white;position: relative;}#sk-container-id-1 div.sk-item::before, #sk-container-id-1 div.sk-parallel-item::before {content: \"\";position: absolute;border-left: 1px solid gray;box-sizing: border-box;top: 0;bottom: 0;left: 50%;z-index: -1;}#sk-container-id-1 div.sk-parallel-item {display: flex;flex-direction: column;z-index: 1;position: relative;background-color: white;}#sk-container-id-1 div.sk-parallel-item:first-child::after {align-self: flex-end;width: 50%;}#sk-container-id-1 div.sk-parallel-item:last-child::after {align-self: flex-start;width: 50%;}#sk-container-id-1 div.sk-parallel-item:only-child::after {width: 0;}#sk-container-id-1 div.sk-dashed-wrapped {border: 1px dashed gray;margin: 0 0.4em 0.5em 0.4em;box-sizing: border-box;padding-bottom: 0.4em;background-color: white;}#sk-container-id-1 div.sk-label label {font-family: monospace;font-weight: bold;display: inline-block;line-height: 1.2em;}#sk-container-id-1 div.sk-label-container {text-align: center;}#sk-container-id-1 div.sk-container {/* jupyter's `normalize.less` sets `[hidden] { display: none; }` but bootstrap.min.css set `[hidden] { display: none !important; }` so we also need the `!important` here to be able to override the default hidden behavior on the sphinx rendered scikit-learn.org. See: https://github.com/scikit-learn/scikit-learn/issues/21755 */display: inline-block !important;position: relative;}#sk-container-id-1 div.sk-text-repr-fallback {display: none;}</style><div id=\"sk-container-id-1\" class=\"sk-top-container\"><div class=\"sk-text-repr-fallback\"><pre>RandomForestClassifier()</pre><b>In a Jupyter environment, please rerun this cell to show the HTML representation or trust the notebook. <br />On GitHub, the HTML representation is unable to render, please try loading this page with nbviewer.org.</b></div><div class=\"sk-container\" hidden><div class=\"sk-item\"><div class=\"sk-estimator sk-toggleable\"><input class=\"sk-toggleable__control sk-hidden--visually\" id=\"sk-estimator-id-1\" type=\"checkbox\" checked><label for=\"sk-estimator-id-1\" class=\"sk-toggleable__label sk-toggleable__label-arrow\">RandomForestClassifier</label><div class=\"sk-toggleable__content\"><pre>RandomForestClassifier()</pre></div></div></div></div></div>"
      ],
      "text/plain": [
       "RandomForestClassifier()"
      ]
     },
     "execution_count": 8,
     "metadata": {},
     "output_type": "execute_result"
    }
   ],
   "source": [
    "from sklearn.ensemble import RandomForestClassifier\n",
    "from sklearn.model_selection import train_test_split\n",
    "\n",
    "X_train, X_test, y_train, y_test = train_test_split(X_tfidf, df['Sentiment'], test_size=0.2, random_state=42)\n",
    "clf = RandomForestClassifier()\n",
    "clf.fit(X_train, y_train)\n"
   ]
  },
  {
   "cell_type": "code",
   "execution_count": 9,
   "id": "6f8a20aa",
   "metadata": {
    "execution": {
     "iopub.execute_input": "2024-10-15T06:37:14.039140Z",
     "iopub.status.busy": "2024-10-15T06:37:14.038763Z",
     "iopub.status.idle": "2024-10-15T06:38:13.161977Z",
     "shell.execute_reply": "2024-10-15T06:38:13.160799Z"
    },
    "papermill": {
     "duration": 59.136388,
     "end_time": "2024-10-15T06:38:13.169545",
     "exception": false,
     "start_time": "2024-10-15T06:37:14.033157",
     "status": "completed"
    },
    "tags": []
   },
   "outputs": [
    {
     "name": "stdout",
     "output_type": "stream",
     "text": [
      "Cross-validation accuracy:  0.8026\n"
     ]
    }
   ],
   "source": [
    "from sklearn.model_selection import cross_val_score\n",
    "\n",
    "scores = cross_val_score(clf, X_tfidf, df['Sentiment'], cv=4, scoring='accuracy')\n",
    "print(\"Cross-validation accuracy: \", scores.mean())\n"
   ]
  }
 ],
 "metadata": {
  "kaggle": {
   "accelerator": "nvidiaTeslaT4",
   "dataSources": [
    {
     "datasetId": 18,
     "sourceId": 2157,
     "sourceType": "datasetVersion"
    }
   ],
   "dockerImageVersionId": 30787,
   "isGpuEnabled": true,
   "isInternetEnabled": true,
   "language": "python",
   "sourceType": "notebook"
  },
  "kernelspec": {
   "display_name": "Python 3",
   "language": "python",
   "name": "python3"
  },
  "language_info": {
   "codemirror_mode": {
    "name": "ipython",
    "version": 3
   },
   "file_extension": ".py",
   "mimetype": "text/x-python",
   "name": "python",
   "nbconvert_exporter": "python",
   "pygments_lexer": "ipython3",
   "version": "3.10.14"
  },
  "papermill": {
   "default_parameters": {},
   "duration": 107.480602,
   "end_time": "2024-10-15T06:38:14.095631",
   "environment_variables": {},
   "exception": null,
   "input_path": "__notebook__.ipynb",
   "output_path": "__notebook__.ipynb",
   "parameters": {},
   "start_time": "2024-10-15T06:36:26.615029",
   "version": "2.6.0"
  }
 },
 "nbformat": 4,
 "nbformat_minor": 5
}
