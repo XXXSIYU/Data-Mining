{
 "cells": [
  {
   "cell_type": "code",
   "execution_count": 1,
   "id": "12204011",
   "metadata": {
    "_cell_guid": "b1076dfc-b9ad-4769-8c92-a6c4dae69d19",
    "_uuid": "8f2839f25d086af736a60e9eeb907d3b93b6e0e5",
    "execution": {
     "iopub.execute_input": "2024-10-16T09:47:56.741809Z",
     "iopub.status.busy": "2024-10-16T09:47:56.741505Z",
     "iopub.status.idle": "2024-10-16T09:47:57.481592Z",
     "shell.execute_reply": "2024-10-16T09:47:57.480696Z"
    },
    "papermill": {
     "duration": 0.750705,
     "end_time": "2024-10-16T09:47:57.483917",
     "exception": false,
     "start_time": "2024-10-16T09:47:56.733212",
     "status": "completed"
    },
    "tags": []
   },
   "outputs": [
    {
     "name": "stdout",
     "output_type": "stream",
     "text": [
      "/kaggle/input/amazon-fine-food-reviews/hashes.txt\n",
      "/kaggle/input/amazon-fine-food-reviews/Reviews.csv\n",
      "/kaggle/input/amazon-fine-food-reviews/database.sqlite\n"
     ]
    }
   ],
   "source": [
    "# This Python 3 environment comes with many helpful analytics libraries installed\n",
    "# It is defined by the kaggle/python Docker image: https://github.com/kaggle/docker-python\n",
    "# For example, here's several helpful packages to load\n",
    "\n",
    "import numpy as np # linear algebra\n",
    "import pandas as pd # data processing, CSV file I/O (e.g. pd.read_csv)\n",
    "\n",
    "# Input data files are available in the read-only \"../input/\" directory\n",
    "# For example, running this (by clicking run or pressing Shift+Enter) will list all files under the input directory\n",
    "\n",
    "import os\n",
    "for dirname, _, filenames in os.walk('/kaggle/input'):\n",
    "    for filename in filenames:\n",
    "        print(os.path.join(dirname, filename))\n",
    "\n",
    "# You can write up to 20GB to the current directory (/kaggle/working/) that gets preserved as output when you create a version using \"Save & Run All\" \n",
    "# You can also write temporary files to /kaggle/temp/, but they won't be saved outside of the current session"
   ]
  },
  {
   "cell_type": "code",
   "execution_count": 2,
   "id": "aa82c42b",
   "metadata": {
    "execution": {
     "iopub.execute_input": "2024-10-16T09:47:57.498660Z",
     "iopub.status.busy": "2024-10-16T09:47:57.497916Z",
     "iopub.status.idle": "2024-10-16T09:48:09.454736Z",
     "shell.execute_reply": "2024-10-16T09:48:09.453755Z"
    },
    "papermill": {
     "duration": 11.966519,
     "end_time": "2024-10-16T09:48:09.457177",
     "exception": false,
     "start_time": "2024-10-16T09:47:57.490658",
     "status": "completed"
    },
    "tags": []
   },
   "outputs": [],
   "source": [
    "import nltk\n",
    "import matplotlib.pyplot as plt\n",
    "from sklearn.feature_extraction.text import TfidfVectorizer, ENGLISH_STOP_WORDS\n",
    "from sklearn.model_selection import train_test_split, cross_val_score\n",
    "from sklearn.ensemble import RandomForestClassifier\n",
    "from sklearn.metrics import accuracy_score\n",
    "from gensim.models import Word2Vec\n",
    "from nltk.tokenize import word_tokenize"
   ]
  },
  {
   "cell_type": "markdown",
   "id": "2a9a2e48",
   "metadata": {
    "papermill": {
     "duration": 0.006463,
     "end_time": "2024-10-16T09:48:09.470458",
     "exception": false,
     "start_time": "2024-10-16T09:48:09.463995",
     "status": "completed"
    },
    "tags": []
   },
   "source": [
    "### 1.1 讀取資料"
   ]
  },
  {
   "cell_type": "code",
   "execution_count": 3,
   "id": "71ce2b03",
   "metadata": {
    "execution": {
     "iopub.execute_input": "2024-10-16T09:48:09.485697Z",
     "iopub.status.busy": "2024-10-16T09:48:09.485203Z",
     "iopub.status.idle": "2024-10-16T09:48:14.907620Z",
     "shell.execute_reply": "2024-10-16T09:48:14.906604Z"
    },
    "papermill": {
     "duration": 5.43206,
     "end_time": "2024-10-16T09:48:14.910041",
     "exception": false,
     "start_time": "2024-10-16T09:48:09.477981",
     "status": "completed"
    },
    "tags": []
   },
   "outputs": [],
   "source": [
    "df = pd.read_csv('/kaggle/input/amazon-fine-food-reviews/Reviews.csv', usecols=['Text', 'Score'])\n",
    "df = df.head(10000)"
   ]
  },
  {
   "cell_type": "code",
   "execution_count": 4,
   "id": "1c445874",
   "metadata": {
    "execution": {
     "iopub.execute_input": "2024-10-16T09:48:14.924918Z",
     "iopub.status.busy": "2024-10-16T09:48:14.924584Z",
     "iopub.status.idle": "2024-10-16T09:48:14.942875Z",
     "shell.execute_reply": "2024-10-16T09:48:14.942033Z"
    },
    "papermill": {
     "duration": 0.027815,
     "end_time": "2024-10-16T09:48:14.944796",
     "exception": false,
     "start_time": "2024-10-16T09:48:14.916981",
     "status": "completed"
    },
    "tags": []
   },
   "outputs": [
    {
     "data": {
      "text/html": [
       "<div>\n",
       "<style scoped>\n",
       "    .dataframe tbody tr th:only-of-type {\n",
       "        vertical-align: middle;\n",
       "    }\n",
       "\n",
       "    .dataframe tbody tr th {\n",
       "        vertical-align: top;\n",
       "    }\n",
       "\n",
       "    .dataframe thead th {\n",
       "        text-align: right;\n",
       "    }\n",
       "</style>\n",
       "<table border=\"1\" class=\"dataframe\">\n",
       "  <thead>\n",
       "    <tr style=\"text-align: right;\">\n",
       "      <th></th>\n",
       "      <th>Score</th>\n",
       "      <th>Text</th>\n",
       "    </tr>\n",
       "  </thead>\n",
       "  <tbody>\n",
       "    <tr>\n",
       "      <th>0</th>\n",
       "      <td>5</td>\n",
       "      <td>I have bought several of the Vitality canned d...</td>\n",
       "    </tr>\n",
       "    <tr>\n",
       "      <th>1</th>\n",
       "      <td>1</td>\n",
       "      <td>Product arrived labeled as Jumbo Salted Peanut...</td>\n",
       "    </tr>\n",
       "    <tr>\n",
       "      <th>2</th>\n",
       "      <td>4</td>\n",
       "      <td>This is a confection that has been around a fe...</td>\n",
       "    </tr>\n",
       "    <tr>\n",
       "      <th>3</th>\n",
       "      <td>2</td>\n",
       "      <td>If you are looking for the secret ingredient i...</td>\n",
       "    </tr>\n",
       "    <tr>\n",
       "      <th>4</th>\n",
       "      <td>5</td>\n",
       "      <td>Great taffy at a great price.  There was a wid...</td>\n",
       "    </tr>\n",
       "    <tr>\n",
       "      <th>5</th>\n",
       "      <td>4</td>\n",
       "      <td>I got a wild hair for taffy and ordered this f...</td>\n",
       "    </tr>\n",
       "    <tr>\n",
       "      <th>6</th>\n",
       "      <td>5</td>\n",
       "      <td>This saltwater taffy had great flavors and was...</td>\n",
       "    </tr>\n",
       "    <tr>\n",
       "      <th>7</th>\n",
       "      <td>5</td>\n",
       "      <td>This taffy is so good.  It is very soft and ch...</td>\n",
       "    </tr>\n",
       "    <tr>\n",
       "      <th>8</th>\n",
       "      <td>5</td>\n",
       "      <td>Right now I'm mostly just sprouting this so my...</td>\n",
       "    </tr>\n",
       "    <tr>\n",
       "      <th>9</th>\n",
       "      <td>5</td>\n",
       "      <td>This is a very healthy dog food. Good for thei...</td>\n",
       "    </tr>\n",
       "    <tr>\n",
       "      <th>10</th>\n",
       "      <td>5</td>\n",
       "      <td>I don't know if it's the cactus or the tequila...</td>\n",
       "    </tr>\n",
       "    <tr>\n",
       "      <th>11</th>\n",
       "      <td>5</td>\n",
       "      <td>One of my boys needed to lose some weight and ...</td>\n",
       "    </tr>\n",
       "    <tr>\n",
       "      <th>12</th>\n",
       "      <td>1</td>\n",
       "      <td>My cats have been happily eating Felidae Plati...</td>\n",
       "    </tr>\n",
       "    <tr>\n",
       "      <th>13</th>\n",
       "      <td>4</td>\n",
       "      <td>good flavor! these came securely packed... the...</td>\n",
       "    </tr>\n",
       "    <tr>\n",
       "      <th>14</th>\n",
       "      <td>5</td>\n",
       "      <td>The Strawberry Twizzlers are my guilty pleasur...</td>\n",
       "    </tr>\n",
       "    <tr>\n",
       "      <th>15</th>\n",
       "      <td>5</td>\n",
       "      <td>My daughter loves twizzlers and this shipment ...</td>\n",
       "    </tr>\n",
       "    <tr>\n",
       "      <th>16</th>\n",
       "      <td>2</td>\n",
       "      <td>I love eating them and they are good for watch...</td>\n",
       "    </tr>\n",
       "    <tr>\n",
       "      <th>17</th>\n",
       "      <td>5</td>\n",
       "      <td>I am very satisfied with my Twizzler purchase....</td>\n",
       "    </tr>\n",
       "    <tr>\n",
       "      <th>18</th>\n",
       "      <td>5</td>\n",
       "      <td>Twizzlers, Strawberry my childhood favorite ca...</td>\n",
       "    </tr>\n",
       "    <tr>\n",
       "      <th>19</th>\n",
       "      <td>5</td>\n",
       "      <td>Candy was delivered very fast and was purchase...</td>\n",
       "    </tr>\n",
       "    <tr>\n",
       "      <th>20</th>\n",
       "      <td>5</td>\n",
       "      <td>My husband is a Twizzlers addict.  We've bough...</td>\n",
       "    </tr>\n",
       "    <tr>\n",
       "      <th>21</th>\n",
       "      <td>5</td>\n",
       "      <td>I bought these for my husband who is currently...</td>\n",
       "    </tr>\n",
       "    <tr>\n",
       "      <th>22</th>\n",
       "      <td>5</td>\n",
       "      <td>I can remember buying this candy as a kid and ...</td>\n",
       "    </tr>\n",
       "    <tr>\n",
       "      <th>23</th>\n",
       "      <td>5</td>\n",
       "      <td>I love this candy.  After weight watchers I ha...</td>\n",
       "    </tr>\n",
       "    <tr>\n",
       "      <th>24</th>\n",
       "      <td>5</td>\n",
       "      <td>I have lived out of the US for over 7 yrs now,...</td>\n",
       "    </tr>\n",
       "    <tr>\n",
       "      <th>25</th>\n",
       "      <td>5</td>\n",
       "      <td>Product received is as advertised.&lt;br /&gt;&lt;br /&gt;...</td>\n",
       "    </tr>\n",
       "    <tr>\n",
       "      <th>26</th>\n",
       "      <td>1</td>\n",
       "      <td>The candy is just red , No flavor . Just  plan...</td>\n",
       "    </tr>\n",
       "    <tr>\n",
       "      <th>27</th>\n",
       "      <td>4</td>\n",
       "      <td>I was so glad Amazon carried these batteries. ...</td>\n",
       "    </tr>\n",
       "    <tr>\n",
       "      <th>28</th>\n",
       "      <td>5</td>\n",
       "      <td>I got this for my Mum who is not diabetic but ...</td>\n",
       "    </tr>\n",
       "    <tr>\n",
       "      <th>29</th>\n",
       "      <td>5</td>\n",
       "      <td>I don't know if it's the cactus or the tequila...</td>\n",
       "    </tr>\n",
       "    <tr>\n",
       "      <th>30</th>\n",
       "      <td>5</td>\n",
       "      <td>I have never been a huge coffee fan. However, ...</td>\n",
       "    </tr>\n",
       "    <tr>\n",
       "      <th>31</th>\n",
       "      <td>5</td>\n",
       "      <td>This offer is a great price and a great taste,...</td>\n",
       "    </tr>\n",
       "    <tr>\n",
       "      <th>32</th>\n",
       "      <td>4</td>\n",
       "      <td>McCann's Instant Oatmeal is great if you must ...</td>\n",
       "    </tr>\n",
       "    <tr>\n",
       "      <th>33</th>\n",
       "      <td>4</td>\n",
       "      <td>This is a good instant oatmeal from the best o...</td>\n",
       "    </tr>\n",
       "    <tr>\n",
       "      <th>34</th>\n",
       "      <td>5</td>\n",
       "      <td>Instant oatmeal can become soggy the minute th...</td>\n",
       "    </tr>\n",
       "    <tr>\n",
       "      <th>35</th>\n",
       "      <td>4</td>\n",
       "      <td>McCann's Instant Irish Oatmeal, Variety Pack o...</td>\n",
       "    </tr>\n",
       "    <tr>\n",
       "      <th>36</th>\n",
       "      <td>5</td>\n",
       "      <td>For those of us with celiac disease this produ...</td>\n",
       "    </tr>\n",
       "    <tr>\n",
       "      <th>37</th>\n",
       "      <td>5</td>\n",
       "      <td>What else do you need to know? Oatmeal, instan...</td>\n",
       "    </tr>\n",
       "    <tr>\n",
       "      <th>38</th>\n",
       "      <td>4</td>\n",
       "      <td>I WAS VISITING MY FRIEND NATE THE OTHER MORNIN...</td>\n",
       "    </tr>\n",
       "    <tr>\n",
       "      <th>39</th>\n",
       "      <td>5</td>\n",
       "      <td>I ordered this for my wife as it was reccomend...</td>\n",
       "    </tr>\n",
       "    <tr>\n",
       "      <th>40</th>\n",
       "      <td>5</td>\n",
       "      <td>The variety packs taste great!&lt;br /&gt;&lt;br /&gt;I ha...</td>\n",
       "    </tr>\n",
       "    <tr>\n",
       "      <th>41</th>\n",
       "      <td>5</td>\n",
       "      <td>McCann's makes oatmeal for every oatmeal conno...</td>\n",
       "    </tr>\n",
       "    <tr>\n",
       "      <th>42</th>\n",
       "      <td>5</td>\n",
       "      <td>I have McCann's Oatmeal every morning and by o...</td>\n",
       "    </tr>\n",
       "    <tr>\n",
       "      <th>43</th>\n",
       "      <td>5</td>\n",
       "      <td>McCann's Oatmeal is a good quality choice.  Ou...</td>\n",
       "    </tr>\n",
       "    <tr>\n",
       "      <th>44</th>\n",
       "      <td>5</td>\n",
       "      <td>We really like the McCann's steel cut oats but...</td>\n",
       "    </tr>\n",
       "    <tr>\n",
       "      <th>45</th>\n",
       "      <td>3</td>\n",
       "      <td>This seems a little more wholesome than some o...</td>\n",
       "    </tr>\n",
       "    <tr>\n",
       "      <th>46</th>\n",
       "      <td>5</td>\n",
       "      <td>Good oatmeal.  I like the apple cinnamon the b...</td>\n",
       "    </tr>\n",
       "    <tr>\n",
       "      <th>47</th>\n",
       "      <td>3</td>\n",
       "      <td>The flavors are good.  However, I do not see a...</td>\n",
       "    </tr>\n",
       "    <tr>\n",
       "      <th>48</th>\n",
       "      <td>4</td>\n",
       "      <td>I really like the Maple and Brown Sugar flavor...</td>\n",
       "    </tr>\n",
       "    <tr>\n",
       "      <th>49</th>\n",
       "      <td>3</td>\n",
       "      <td>This is the same stuff you can buy at the big ...</td>\n",
       "    </tr>\n",
       "  </tbody>\n",
       "</table>\n",
       "</div>"
      ],
      "text/plain": [
       "    Score                                               Text\n",
       "0       5  I have bought several of the Vitality canned d...\n",
       "1       1  Product arrived labeled as Jumbo Salted Peanut...\n",
       "2       4  This is a confection that has been around a fe...\n",
       "3       2  If you are looking for the secret ingredient i...\n",
       "4       5  Great taffy at a great price.  There was a wid...\n",
       "5       4  I got a wild hair for taffy and ordered this f...\n",
       "6       5  This saltwater taffy had great flavors and was...\n",
       "7       5  This taffy is so good.  It is very soft and ch...\n",
       "8       5  Right now I'm mostly just sprouting this so my...\n",
       "9       5  This is a very healthy dog food. Good for thei...\n",
       "10      5  I don't know if it's the cactus or the tequila...\n",
       "11      5  One of my boys needed to lose some weight and ...\n",
       "12      1  My cats have been happily eating Felidae Plati...\n",
       "13      4  good flavor! these came securely packed... the...\n",
       "14      5  The Strawberry Twizzlers are my guilty pleasur...\n",
       "15      5  My daughter loves twizzlers and this shipment ...\n",
       "16      2  I love eating them and they are good for watch...\n",
       "17      5  I am very satisfied with my Twizzler purchase....\n",
       "18      5  Twizzlers, Strawberry my childhood favorite ca...\n",
       "19      5  Candy was delivered very fast and was purchase...\n",
       "20      5  My husband is a Twizzlers addict.  We've bough...\n",
       "21      5  I bought these for my husband who is currently...\n",
       "22      5  I can remember buying this candy as a kid and ...\n",
       "23      5  I love this candy.  After weight watchers I ha...\n",
       "24      5  I have lived out of the US for over 7 yrs now,...\n",
       "25      5  Product received is as advertised.<br /><br />...\n",
       "26      1  The candy is just red , No flavor . Just  plan...\n",
       "27      4  I was so glad Amazon carried these batteries. ...\n",
       "28      5  I got this for my Mum who is not diabetic but ...\n",
       "29      5  I don't know if it's the cactus or the tequila...\n",
       "30      5  I have never been a huge coffee fan. However, ...\n",
       "31      5  This offer is a great price and a great taste,...\n",
       "32      4  McCann's Instant Oatmeal is great if you must ...\n",
       "33      4  This is a good instant oatmeal from the best o...\n",
       "34      5  Instant oatmeal can become soggy the minute th...\n",
       "35      4  McCann's Instant Irish Oatmeal, Variety Pack o...\n",
       "36      5  For those of us with celiac disease this produ...\n",
       "37      5  What else do you need to know? Oatmeal, instan...\n",
       "38      4  I WAS VISITING MY FRIEND NATE THE OTHER MORNIN...\n",
       "39      5  I ordered this for my wife as it was reccomend...\n",
       "40      5  The variety packs taste great!<br /><br />I ha...\n",
       "41      5  McCann's makes oatmeal for every oatmeal conno...\n",
       "42      5  I have McCann's Oatmeal every morning and by o...\n",
       "43      5  McCann's Oatmeal is a good quality choice.  Ou...\n",
       "44      5  We really like the McCann's steel cut oats but...\n",
       "45      3  This seems a little more wholesome than some o...\n",
       "46      5  Good oatmeal.  I like the apple cinnamon the b...\n",
       "47      3  The flavors are good.  However, I do not see a...\n",
       "48      4  I really like the Maple and Brown Sugar flavor...\n",
       "49      3  This is the same stuff you can buy at the big ..."
      ]
     },
     "execution_count": 4,
     "metadata": {},
     "output_type": "execute_result"
    }
   ],
   "source": [
    "# 顯示前 50 行\n",
    "df.head(50)\n",
    "\n",
    "# 或顯示最後 20 行\n",
    "#df.tail(20)"
   ]
  },
  {
   "cell_type": "code",
   "execution_count": 5,
   "id": "e79581a8",
   "metadata": {
    "execution": {
     "iopub.execute_input": "2024-10-16T09:48:14.959956Z",
     "iopub.status.busy": "2024-10-16T09:48:14.959659Z",
     "iopub.status.idle": "2024-10-16T09:48:14.984014Z",
     "shell.execute_reply": "2024-10-16T09:48:14.983178Z"
    },
    "papermill": {
     "duration": 0.034116,
     "end_time": "2024-10-16T09:48:14.986000",
     "exception": false,
     "start_time": "2024-10-16T09:48:14.951884",
     "status": "completed"
    },
    "tags": []
   },
   "outputs": [
    {
     "data": {
      "text/html": [
       "<div>\n",
       "<style scoped>\n",
       "    .dataframe tbody tr th:only-of-type {\n",
       "        vertical-align: middle;\n",
       "    }\n",
       "\n",
       "    .dataframe tbody tr th {\n",
       "        vertical-align: top;\n",
       "    }\n",
       "\n",
       "    .dataframe thead th {\n",
       "        text-align: right;\n",
       "    }\n",
       "</style>\n",
       "<table border=\"1\" class=\"dataframe\">\n",
       "  <thead>\n",
       "    <tr style=\"text-align: right;\">\n",
       "      <th></th>\n",
       "      <th>Text</th>\n",
       "      <th>Sentiment</th>\n",
       "    </tr>\n",
       "  </thead>\n",
       "  <tbody>\n",
       "    <tr>\n",
       "      <th>0</th>\n",
       "      <td>I have bought several of the Vitality canned d...</td>\n",
       "      <td>1</td>\n",
       "    </tr>\n",
       "    <tr>\n",
       "      <th>1</th>\n",
       "      <td>Product arrived labeled as Jumbo Salted Peanut...</td>\n",
       "      <td>0</td>\n",
       "    </tr>\n",
       "    <tr>\n",
       "      <th>2</th>\n",
       "      <td>This is a confection that has been around a fe...</td>\n",
       "      <td>1</td>\n",
       "    </tr>\n",
       "    <tr>\n",
       "      <th>3</th>\n",
       "      <td>If you are looking for the secret ingredient i...</td>\n",
       "      <td>0</td>\n",
       "    </tr>\n",
       "    <tr>\n",
       "      <th>4</th>\n",
       "      <td>Great taffy at a great price.  There was a wid...</td>\n",
       "      <td>1</td>\n",
       "    </tr>\n",
       "    <tr>\n",
       "      <th>5</th>\n",
       "      <td>I got a wild hair for taffy and ordered this f...</td>\n",
       "      <td>1</td>\n",
       "    </tr>\n",
       "    <tr>\n",
       "      <th>6</th>\n",
       "      <td>This saltwater taffy had great flavors and was...</td>\n",
       "      <td>1</td>\n",
       "    </tr>\n",
       "    <tr>\n",
       "      <th>7</th>\n",
       "      <td>This taffy is so good.  It is very soft and ch...</td>\n",
       "      <td>1</td>\n",
       "    </tr>\n",
       "    <tr>\n",
       "      <th>8</th>\n",
       "      <td>Right now I'm mostly just sprouting this so my...</td>\n",
       "      <td>1</td>\n",
       "    </tr>\n",
       "    <tr>\n",
       "      <th>9</th>\n",
       "      <td>This is a very healthy dog food. Good for thei...</td>\n",
       "      <td>1</td>\n",
       "    </tr>\n",
       "    <tr>\n",
       "      <th>10</th>\n",
       "      <td>I don't know if it's the cactus or the tequila...</td>\n",
       "      <td>1</td>\n",
       "    </tr>\n",
       "    <tr>\n",
       "      <th>11</th>\n",
       "      <td>One of my boys needed to lose some weight and ...</td>\n",
       "      <td>1</td>\n",
       "    </tr>\n",
       "    <tr>\n",
       "      <th>12</th>\n",
       "      <td>My cats have been happily eating Felidae Plati...</td>\n",
       "      <td>0</td>\n",
       "    </tr>\n",
       "    <tr>\n",
       "      <th>13</th>\n",
       "      <td>good flavor! these came securely packed... the...</td>\n",
       "      <td>1</td>\n",
       "    </tr>\n",
       "    <tr>\n",
       "      <th>14</th>\n",
       "      <td>The Strawberry Twizzlers are my guilty pleasur...</td>\n",
       "      <td>1</td>\n",
       "    </tr>\n",
       "    <tr>\n",
       "      <th>15</th>\n",
       "      <td>My daughter loves twizzlers and this shipment ...</td>\n",
       "      <td>1</td>\n",
       "    </tr>\n",
       "    <tr>\n",
       "      <th>16</th>\n",
       "      <td>I love eating them and they are good for watch...</td>\n",
       "      <td>0</td>\n",
       "    </tr>\n",
       "    <tr>\n",
       "      <th>17</th>\n",
       "      <td>I am very satisfied with my Twizzler purchase....</td>\n",
       "      <td>1</td>\n",
       "    </tr>\n",
       "    <tr>\n",
       "      <th>18</th>\n",
       "      <td>Twizzlers, Strawberry my childhood favorite ca...</td>\n",
       "      <td>1</td>\n",
       "    </tr>\n",
       "    <tr>\n",
       "      <th>19</th>\n",
       "      <td>Candy was delivered very fast and was purchase...</td>\n",
       "      <td>1</td>\n",
       "    </tr>\n",
       "    <tr>\n",
       "      <th>20</th>\n",
       "      <td>My husband is a Twizzlers addict.  We've bough...</td>\n",
       "      <td>1</td>\n",
       "    </tr>\n",
       "    <tr>\n",
       "      <th>21</th>\n",
       "      <td>I bought these for my husband who is currently...</td>\n",
       "      <td>1</td>\n",
       "    </tr>\n",
       "    <tr>\n",
       "      <th>22</th>\n",
       "      <td>I can remember buying this candy as a kid and ...</td>\n",
       "      <td>1</td>\n",
       "    </tr>\n",
       "    <tr>\n",
       "      <th>23</th>\n",
       "      <td>I love this candy.  After weight watchers I ha...</td>\n",
       "      <td>1</td>\n",
       "    </tr>\n",
       "    <tr>\n",
       "      <th>24</th>\n",
       "      <td>I have lived out of the US for over 7 yrs now,...</td>\n",
       "      <td>1</td>\n",
       "    </tr>\n",
       "    <tr>\n",
       "      <th>25</th>\n",
       "      <td>Product received is as advertised.&lt;br /&gt;&lt;br /&gt;...</td>\n",
       "      <td>1</td>\n",
       "    </tr>\n",
       "    <tr>\n",
       "      <th>26</th>\n",
       "      <td>The candy is just red , No flavor . Just  plan...</td>\n",
       "      <td>0</td>\n",
       "    </tr>\n",
       "    <tr>\n",
       "      <th>27</th>\n",
       "      <td>I was so glad Amazon carried these batteries. ...</td>\n",
       "      <td>1</td>\n",
       "    </tr>\n",
       "    <tr>\n",
       "      <th>28</th>\n",
       "      <td>I got this for my Mum who is not diabetic but ...</td>\n",
       "      <td>1</td>\n",
       "    </tr>\n",
       "    <tr>\n",
       "      <th>29</th>\n",
       "      <td>I don't know if it's the cactus or the tequila...</td>\n",
       "      <td>1</td>\n",
       "    </tr>\n",
       "    <tr>\n",
       "      <th>30</th>\n",
       "      <td>I have never been a huge coffee fan. However, ...</td>\n",
       "      <td>1</td>\n",
       "    </tr>\n",
       "    <tr>\n",
       "      <th>31</th>\n",
       "      <td>This offer is a great price and a great taste,...</td>\n",
       "      <td>1</td>\n",
       "    </tr>\n",
       "    <tr>\n",
       "      <th>32</th>\n",
       "      <td>McCann's Instant Oatmeal is great if you must ...</td>\n",
       "      <td>1</td>\n",
       "    </tr>\n",
       "    <tr>\n",
       "      <th>33</th>\n",
       "      <td>This is a good instant oatmeal from the best o...</td>\n",
       "      <td>1</td>\n",
       "    </tr>\n",
       "    <tr>\n",
       "      <th>34</th>\n",
       "      <td>Instant oatmeal can become soggy the minute th...</td>\n",
       "      <td>1</td>\n",
       "    </tr>\n",
       "    <tr>\n",
       "      <th>35</th>\n",
       "      <td>McCann's Instant Irish Oatmeal, Variety Pack o...</td>\n",
       "      <td>1</td>\n",
       "    </tr>\n",
       "    <tr>\n",
       "      <th>36</th>\n",
       "      <td>For those of us with celiac disease this produ...</td>\n",
       "      <td>1</td>\n",
       "    </tr>\n",
       "    <tr>\n",
       "      <th>37</th>\n",
       "      <td>What else do you need to know? Oatmeal, instan...</td>\n",
       "      <td>1</td>\n",
       "    </tr>\n",
       "    <tr>\n",
       "      <th>38</th>\n",
       "      <td>I WAS VISITING MY FRIEND NATE THE OTHER MORNIN...</td>\n",
       "      <td>1</td>\n",
       "    </tr>\n",
       "    <tr>\n",
       "      <th>39</th>\n",
       "      <td>I ordered this for my wife as it was reccomend...</td>\n",
       "      <td>1</td>\n",
       "    </tr>\n",
       "    <tr>\n",
       "      <th>40</th>\n",
       "      <td>The variety packs taste great!&lt;br /&gt;&lt;br /&gt;I ha...</td>\n",
       "      <td>1</td>\n",
       "    </tr>\n",
       "    <tr>\n",
       "      <th>41</th>\n",
       "      <td>McCann's makes oatmeal for every oatmeal conno...</td>\n",
       "      <td>1</td>\n",
       "    </tr>\n",
       "    <tr>\n",
       "      <th>42</th>\n",
       "      <td>I have McCann's Oatmeal every morning and by o...</td>\n",
       "      <td>1</td>\n",
       "    </tr>\n",
       "    <tr>\n",
       "      <th>43</th>\n",
       "      <td>McCann's Oatmeal is a good quality choice.  Ou...</td>\n",
       "      <td>1</td>\n",
       "    </tr>\n",
       "    <tr>\n",
       "      <th>44</th>\n",
       "      <td>We really like the McCann's steel cut oats but...</td>\n",
       "      <td>1</td>\n",
       "    </tr>\n",
       "    <tr>\n",
       "      <th>45</th>\n",
       "      <td>This seems a little more wholesome than some o...</td>\n",
       "      <td>0</td>\n",
       "    </tr>\n",
       "    <tr>\n",
       "      <th>46</th>\n",
       "      <td>Good oatmeal.  I like the apple cinnamon the b...</td>\n",
       "      <td>1</td>\n",
       "    </tr>\n",
       "    <tr>\n",
       "      <th>47</th>\n",
       "      <td>The flavors are good.  However, I do not see a...</td>\n",
       "      <td>0</td>\n",
       "    </tr>\n",
       "    <tr>\n",
       "      <th>48</th>\n",
       "      <td>I really like the Maple and Brown Sugar flavor...</td>\n",
       "      <td>1</td>\n",
       "    </tr>\n",
       "    <tr>\n",
       "      <th>49</th>\n",
       "      <td>This is the same stuff you can buy at the big ...</td>\n",
       "      <td>0</td>\n",
       "    </tr>\n",
       "  </tbody>\n",
       "</table>\n",
       "</div>"
      ],
      "text/plain": [
       "                                                 Text  Sentiment\n",
       "0   I have bought several of the Vitality canned d...          1\n",
       "1   Product arrived labeled as Jumbo Salted Peanut...          0\n",
       "2   This is a confection that has been around a fe...          1\n",
       "3   If you are looking for the secret ingredient i...          0\n",
       "4   Great taffy at a great price.  There was a wid...          1\n",
       "5   I got a wild hair for taffy and ordered this f...          1\n",
       "6   This saltwater taffy had great flavors and was...          1\n",
       "7   This taffy is so good.  It is very soft and ch...          1\n",
       "8   Right now I'm mostly just sprouting this so my...          1\n",
       "9   This is a very healthy dog food. Good for thei...          1\n",
       "10  I don't know if it's the cactus or the tequila...          1\n",
       "11  One of my boys needed to lose some weight and ...          1\n",
       "12  My cats have been happily eating Felidae Plati...          0\n",
       "13  good flavor! these came securely packed... the...          1\n",
       "14  The Strawberry Twizzlers are my guilty pleasur...          1\n",
       "15  My daughter loves twizzlers and this shipment ...          1\n",
       "16  I love eating them and they are good for watch...          0\n",
       "17  I am very satisfied with my Twizzler purchase....          1\n",
       "18  Twizzlers, Strawberry my childhood favorite ca...          1\n",
       "19  Candy was delivered very fast and was purchase...          1\n",
       "20  My husband is a Twizzlers addict.  We've bough...          1\n",
       "21  I bought these for my husband who is currently...          1\n",
       "22  I can remember buying this candy as a kid and ...          1\n",
       "23  I love this candy.  After weight watchers I ha...          1\n",
       "24  I have lived out of the US for over 7 yrs now,...          1\n",
       "25  Product received is as advertised.<br /><br />...          1\n",
       "26  The candy is just red , No flavor . Just  plan...          0\n",
       "27  I was so glad Amazon carried these batteries. ...          1\n",
       "28  I got this for my Mum who is not diabetic but ...          1\n",
       "29  I don't know if it's the cactus or the tequila...          1\n",
       "30  I have never been a huge coffee fan. However, ...          1\n",
       "31  This offer is a great price and a great taste,...          1\n",
       "32  McCann's Instant Oatmeal is great if you must ...          1\n",
       "33  This is a good instant oatmeal from the best o...          1\n",
       "34  Instant oatmeal can become soggy the minute th...          1\n",
       "35  McCann's Instant Irish Oatmeal, Variety Pack o...          1\n",
       "36  For those of us with celiac disease this produ...          1\n",
       "37  What else do you need to know? Oatmeal, instan...          1\n",
       "38  I WAS VISITING MY FRIEND NATE THE OTHER MORNIN...          1\n",
       "39  I ordered this for my wife as it was reccomend...          1\n",
       "40  The variety packs taste great!<br /><br />I ha...          1\n",
       "41  McCann's makes oatmeal for every oatmeal conno...          1\n",
       "42  I have McCann's Oatmeal every morning and by o...          1\n",
       "43  McCann's Oatmeal is a good quality choice.  Ou...          1\n",
       "44  We really like the McCann's steel cut oats but...          1\n",
       "45  This seems a little more wholesome than some o...          0\n",
       "46  Good oatmeal.  I like the apple cinnamon the b...          1\n",
       "47  The flavors are good.  However, I do not see a...          0\n",
       "48  I really like the Maple and Brown Sugar flavor...          1\n",
       "49  This is the same stuff you can buy at the big ...          0"
      ]
     },
     "execution_count": 5,
     "metadata": {},
     "output_type": "execute_result"
    }
   ],
   "source": [
    "# 將 \"Score\" 轉為 1 (positive) 或 0 (negative)\n",
    "df['Sentiment'] = df['Score'].apply(lambda x: 1 if x >= 4 else 0)\n",
    "df = df[['Text', 'Sentiment']]  # 只保留 'Text' 和 'Sentiment'\n",
    "\n",
    "# 顯示前 50 筆處理後的資料\n",
    "df.head(50)"
   ]
  },
  {
   "cell_type": "markdown",
   "id": "a349d232",
   "metadata": {
    "papermill": {
     "duration": 0.007319,
     "end_time": "2024-10-16T09:48:15.000958",
     "exception": false,
     "start_time": "2024-10-16T09:48:14.993639",
     "status": "completed"
    },
    "tags": []
   },
   "source": [
    "### 1.2 去除停頓詞 stop words"
   ]
  },
  {
   "cell_type": "code",
   "execution_count": 6,
   "id": "1d7de57c",
   "metadata": {
    "execution": {
     "iopub.execute_input": "2024-10-16T09:48:15.016574Z",
     "iopub.status.busy": "2024-10-16T09:48:15.016311Z",
     "iopub.status.idle": "2024-10-16T09:48:15.024018Z",
     "shell.execute_reply": "2024-10-16T09:48:15.023129Z"
    },
    "papermill": {
     "duration": 0.017759,
     "end_time": "2024-10-16T09:48:15.025949",
     "exception": false,
     "start_time": "2024-10-16T09:48:15.008190",
     "status": "completed"
    },
    "tags": []
   },
   "outputs": [
    {
     "data": {
      "text/plain": [
       "0          since\n",
       "1             of\n",
       "2           such\n",
       "3      somewhere\n",
       "4       latterly\n",
       "5             un\n",
       "6         myself\n",
       "7           were\n",
       "8           five\n",
       "9          until\n",
       "10          ever\n",
       "11           all\n",
       "12          whom\n",
       "13          many\n",
       "14            de\n",
       "15            an\n",
       "16           few\n",
       "17       because\n",
       "18         yours\n",
       "19         under\n",
       "20            if\n",
       "21           may\n",
       "22        seemed\n",
       "23        within\n",
       "24        should\n",
       "25          part\n",
       "26         third\n",
       "27       besides\n",
       "28    throughout\n",
       "29           can\n",
       "30       thereby\n",
       "31       whereas\n",
       "32           him\n",
       "33          full\n",
       "34           you\n",
       "35        twenty\n",
       "36       another\n",
       "37       whether\n",
       "38         whole\n",
       "39       serious\n",
       "40            no\n",
       "41       nothing\n",
       "42        toward\n",
       "43      anything\n",
       "44           get\n",
       "45         their\n",
       "46      everyone\n",
       "47          last\n",
       "48      together\n",
       "49         found\n",
       "dtype: object"
      ]
     },
     "execution_count": 6,
     "metadata": {},
     "output_type": "execute_result"
    }
   ],
   "source": [
    "# 使用 sklearn 的預設停頓詞並擴展自訂停頓詞\n",
    "stop_words = list(ENGLISH_STOP_WORDS) + ['additional', 'words']\n",
    "\n",
    "# 使用 pandas 方法將 list 轉換為 Series，並顯示停頓詞\n",
    "stop_words_series = pd.Series(stop_words)\n",
    "stop_words_series.head(50)"
   ]
  },
  {
   "cell_type": "markdown",
   "id": "e3a16bc7",
   "metadata": {
    "papermill": {
     "duration": 0.007393,
     "end_time": "2024-10-16T09:48:15.040925",
     "exception": false,
     "start_time": "2024-10-16T09:48:15.033532",
     "status": "completed"
    },
    "tags": []
   },
   "source": [
    "### 1.3 文字探勘前處理：將文字轉換成向量"
   ]
  },
  {
   "cell_type": "code",
   "execution_count": 7,
   "id": "89b6e1be",
   "metadata": {
    "execution": {
     "iopub.execute_input": "2024-10-16T09:48:15.057427Z",
     "iopub.status.busy": "2024-10-16T09:48:15.056744Z",
     "iopub.status.idle": "2024-10-16T09:48:15.794266Z",
     "shell.execute_reply": "2024-10-16T09:48:15.793220Z"
    },
    "papermill": {
     "duration": 0.747972,
     "end_time": "2024-10-16T09:48:15.796361",
     "exception": false,
     "start_time": "2024-10-16T09:48:15.048389",
     "status": "completed"
    },
    "tags": []
   },
   "outputs": [
    {
     "name": "stdout",
     "output_type": "stream",
     "text": [
      "TF-IDF Feature Names:  ['00' '000' '0003' '000kwh' '002' '008' '0100' '0174' '02' '03']\n"
     ]
    }
   ],
   "source": [
    "# 使用 tf-idf 向量化\n",
    "\n",
    "# 初始化 TfidfVectorizer，並移除停頓詞\n",
    "tfidf = TfidfVectorizer(stop_words=stop_words)\n",
    "X_tfidf = tfidf.fit_transform(df['Text'])\n",
    "\n",
    "# 顯示 TF-IDF 向量的特徵名稱\n",
    "tfidf_feature_names = tfidf.get_feature_names_out()\n",
    "print(\"TF-IDF Feature Names: \", tfidf_feature_names[:10])  # 顯示前10個特徵"
   ]
  },
  {
   "cell_type": "markdown",
   "id": "c85cefac",
   "metadata": {
    "papermill": {
     "duration": 0.007426,
     "end_time": "2024-10-16T09:48:15.811740",
     "exception": false,
     "start_time": "2024-10-16T09:48:15.804314",
     "status": "completed"
    },
    "tags": []
   },
   "source": [
    "### 使用 Word2Vec 向量化"
   ]
  },
  {
   "cell_type": "code",
   "execution_count": 8,
   "id": "46420a7f",
   "metadata": {
    "execution": {
     "iopub.execute_input": "2024-10-16T09:48:15.828385Z",
     "iopub.status.busy": "2024-10-16T09:48:15.827726Z",
     "iopub.status.idle": "2024-10-16T09:48:28.832321Z",
     "shell.execute_reply": "2024-10-16T09:48:28.831231Z"
    },
    "papermill": {
     "duration": 13.015199,
     "end_time": "2024-10-16T09:48:28.834540",
     "exception": false,
     "start_time": "2024-10-16T09:48:15.819341",
     "status": "completed"
    },
    "tags": []
   },
   "outputs": [
    {
     "name": "stdout",
     "output_type": "stream",
     "text": [
      "[nltk_data] Downloading package punkt to /usr/share/nltk_data...\n",
      "[nltk_data]   Package punkt is already up-to-date!\n",
      "Word2Vec Example for 'good':  [ 1.0804713   0.22027159  0.15820105 -0.06644525  0.85891366 -1.9642743\n",
      "  0.11204571  0.6844005  -0.20653188  0.282159    0.7140076  -1.635408\n",
      "  1.8716539   1.571635    0.77525264  0.29023954 -0.7798165   1.5135654\n",
      "  0.22582923 -1.0753386  -0.7313357  -1.906449   -1.348197   -1.0275747\n",
      " -0.07548986  0.08721685  1.8200938  -1.5177786  -0.8846366  -0.26651642\n",
      "  1.1976098   0.19192909  1.0037466  -0.18633515 -0.49179617  1.6389772\n",
      " -0.5833208   0.74552405 -0.6033465  -0.32757077  0.24647847  1.665342\n",
      " -0.91254145 -1.5226841   0.30282372 -0.22056538  1.3524312  -0.2532065\n",
      "  0.03281392  0.72884697  0.6034781  -2.1091313  -0.34700418 -0.7066317\n",
      "  0.7015859  -0.9457029  -0.76321197  1.1319693   0.51951045 -0.1642506\n",
      " -1.156326    0.66968924 -0.5953511   0.8332912  -1.0491036   0.3758197\n",
      " -0.79469746  1.9396687  -0.8007732  -0.30420983 -1.1397609   0.33453035\n",
      "  0.9749753   1.139919    0.559379    0.83457786 -0.14571087 -1.2210028\n",
      " -0.8823771   0.46321118  0.7240352  -0.06778222 -1.5695815  -1.4554306\n",
      " -0.2624853  -0.08508033  0.15854423 -0.56594133 -0.49912977 -1.0825276\n",
      " -1.6835843   0.5146879  -0.21164015  1.3015604  -1.3061231   0.9412723\n",
      "  1.4647017   1.237827    0.49877265 -1.8272069 ]\n"
     ]
    }
   ],
   "source": [
    "# 確保 nltk 的 punkt 模組已經下載，進行文本分詞\n",
    "nltk.download('punkt')\n",
    "\n",
    "# 進行文本分詞\n",
    "tokenized_texts = [word_tokenize(text.lower()) for text in df['Text']]\n",
    "\n",
    "# 訓練 Word2Vec 模型\n",
    "word2vec_model = Word2Vec(sentences=tokenized_texts, vector_size=100, window=5, min_count=5, workers=4)\n",
    "\n",
    "# 查詢 Word2Vec 向量，顯示 'good' 這個詞的向量\n",
    "word_vectors = word2vec_model.wv\n",
    "print(\"Word2Vec Example for 'good': \", word_vectors['good'])  # 查詢詞'good'的向量\n"
   ]
  },
  {
   "cell_type": "markdown",
   "id": "203ea339",
   "metadata": {
    "papermill": {
     "duration": 0.007826,
     "end_time": "2024-10-16T09:48:28.850427",
     "exception": false,
     "start_time": "2024-10-16T09:48:28.842601",
     "status": "completed"
    },
    "tags": []
   },
   "source": [
    "### 2. 建模：使用 Random Forest 進行分類"
   ]
  },
  {
   "cell_type": "markdown",
   "id": "656f6a58",
   "metadata": {
    "papermill": {
     "duration": 0.00753,
     "end_time": "2024-10-16T09:48:28.865801",
     "exception": false,
     "start_time": "2024-10-16T09:48:28.858271",
     "status": "completed"
    },
    "tags": []
   },
   "source": [
    "### 2.1 使用 TF-IDF 向量化訓練 Random Forest 模型"
   ]
  },
  {
   "cell_type": "code",
   "execution_count": 9,
   "id": "ed1abae1",
   "metadata": {
    "execution": {
     "iopub.execute_input": "2024-10-16T09:48:28.882498Z",
     "iopub.status.busy": "2024-10-16T09:48:28.882172Z",
     "iopub.status.idle": "2024-10-16T09:48:43.327115Z",
     "shell.execute_reply": "2024-10-16T09:48:43.326201Z"
    },
    "papermill": {
     "duration": 14.455902,
     "end_time": "2024-10-16T09:48:43.329393",
     "exception": false,
     "start_time": "2024-10-16T09:48:28.873491",
     "status": "completed"
    },
    "tags": []
   },
   "outputs": [
    {
     "name": "stdout",
     "output_type": "stream",
     "text": [
      "TF-IDF Accuracy: 0.8205\n"
     ]
    }
   ],
   "source": [
    "#使用 TF-IDF 向量化訓練 Random Forest 模型\n",
    "X_train_tfidf, X_test_tfidf, y_train, y_test = train_test_split(X_tfidf, df['Sentiment'], test_size=0.2, random_state=42)\n",
    "\n",
    "# 初始化 Random Forest 分類器\n",
    "clf_tfidf = RandomForestClassifier()\n",
    "\n",
    "# 訓練模型\n",
    "clf_tfidf.fit(X_train_tfidf, y_train)\n",
    "\n",
    "# 預測\n",
    "y_pred_tfidf = clf_tfidf.predict(X_test_tfidf)\n",
    "\n",
    "# 計算準確率\n",
    "accuracy_tfidf = accuracy_score(y_test, y_pred_tfidf)\n",
    "print(f'TF-IDF Accuracy: {accuracy_tfidf:.4f}')"
   ]
  },
  {
   "cell_type": "markdown",
   "id": "030d2c9e",
   "metadata": {
    "papermill": {
     "duration": 0.007789,
     "end_time": "2024-10-16T09:48:43.345583",
     "exception": false,
     "start_time": "2024-10-16T09:48:43.337794",
     "status": "completed"
    },
    "tags": []
   },
   "source": [
    "### 2.2 使用 Word2Vec 向量化訓練 Random Forest 模型"
   ]
  },
  {
   "cell_type": "code",
   "execution_count": 10,
   "id": "beabcd74",
   "metadata": {
    "execution": {
     "iopub.execute_input": "2024-10-16T09:48:43.362547Z",
     "iopub.status.busy": "2024-10-16T09:48:43.362226Z",
     "iopub.status.idle": "2024-10-16T09:48:43.367936Z",
     "shell.execute_reply": "2024-10-16T09:48:43.367117Z"
    },
    "papermill": {
     "duration": 0.016387,
     "end_time": "2024-10-16T09:48:43.369715",
     "exception": false,
     "start_time": "2024-10-16T09:48:43.353328",
     "status": "completed"
    },
    "tags": []
   },
   "outputs": [],
   "source": [
    "# 定義函數來將每篇文章的詞向量取平均\n",
    "def get_average_word2vec(tokens_list, model, num_features):\n",
    "    feature_vec = np.zeros((num_features,), dtype=\"float32\")\n",
    "    num_words = 0\n",
    "\n",
    "    for word in tokens_list:\n",
    "        if word in model.wv:\n",
    "            num_words += 1\n",
    "            feature_vec = np.add(feature_vec, model.wv[word])\n",
    "\n",
    "    if num_words > 0:\n",
    "        feature_vec = np.divide(feature_vec, num_words)\n",
    "    return feature_vec\n"
   ]
  },
  {
   "cell_type": "code",
   "execution_count": 11,
   "id": "dfbc5836",
   "metadata": {
    "execution": {
     "iopub.execute_input": "2024-10-16T09:48:43.386452Z",
     "iopub.status.busy": "2024-10-16T09:48:43.386169Z",
     "iopub.status.idle": "2024-10-16T09:48:53.486941Z",
     "shell.execute_reply": "2024-10-16T09:48:53.485905Z"
    },
    "papermill": {
     "duration": 10.111606,
     "end_time": "2024-10-16T09:48:53.489128",
     "exception": false,
     "start_time": "2024-10-16T09:48:43.377522",
     "status": "completed"
    },
    "tags": []
   },
   "outputs": [
    {
     "name": "stdout",
     "output_type": "stream",
     "text": [
      "Word2Vec Accuracy: 0.8060\n"
     ]
    }
   ],
   "source": [
    "# 使用 Word2Vec 特徵向量來表示文本\n",
    "X_word2vec = [get_average_word2vec(tokens, word2vec_model, 100) for tokens in tokenized_texts]\n",
    "\n",
    "# 分割數據集\n",
    "X_train_word2vec, X_test_word2vec, y_train, y_test = train_test_split(X_word2vec, df['Sentiment'], test_size=0.2, random_state=42)\n",
    "\n",
    "# 初始化隨機森林分類器\n",
    "clf_word2vec = RandomForestClassifier()\n",
    "\n",
    "# 訓練模型\n",
    "clf_word2vec.fit(X_train_word2vec, y_train)\n",
    "\n",
    "# 預測\n",
    "y_pred_word2vec = clf_word2vec.predict(X_test_word2vec)\n",
    "\n",
    "# 計算準確率\n",
    "accuracy_word2vec = accuracy_score(y_test, y_pred_word2vec)\n",
    "print(f'Word2Vec Accuracy: {accuracy_word2vec:.4f}')"
   ]
  },
  {
   "cell_type": "markdown",
   "id": "69e20652",
   "metadata": {
    "papermill": {
     "duration": 0.007793,
     "end_time": "2024-10-16T09:48:53.505355",
     "exception": false,
     "start_time": "2024-10-16T09:48:53.497562",
     "status": "completed"
    },
    "tags": []
   },
   "source": [
    "### 3. 評估模型：進行 K-Fold Cross-Validation (k=4)"
   ]
  },
  {
   "cell_type": "markdown",
   "id": "9ab2f18c",
   "metadata": {
    "papermill": {
     "duration": 0.00766,
     "end_time": "2024-10-16T09:48:53.520943",
     "exception": false,
     "start_time": "2024-10-16T09:48:53.513283",
     "status": "completed"
    },
    "tags": []
   },
   "source": [
    "### 3.1 TF-IDF K-Fold Cross-Validation"
   ]
  },
  {
   "cell_type": "code",
   "execution_count": 12,
   "id": "057de91f",
   "metadata": {
    "execution": {
     "iopub.execute_input": "2024-10-16T09:48:53.538854Z",
     "iopub.status.busy": "2024-10-16T09:48:53.537993Z",
     "iopub.status.idle": "2024-10-16T09:49:46.973483Z",
     "shell.execute_reply": "2024-10-16T09:49:46.972562Z"
    },
    "papermill": {
     "duration": 53.4546,
     "end_time": "2024-10-16T09:49:46.983427",
     "exception": false,
     "start_time": "2024-10-16T09:48:53.528827",
     "status": "completed"
    },
    "tags": []
   },
   "outputs": [
    {
     "name": "stdout",
     "output_type": "stream",
     "text": [
      "TF-IDF Cross-Validation Accuracy: 0.7999\n"
     ]
    }
   ],
   "source": [
    "# TF-IDF K-Fold Cross-Validation\n",
    "tfidf_scores = cross_val_score(clf_tfidf, X_tfidf, df['Sentiment'], cv=4, scoring='accuracy')\n",
    "print(f'TF-IDF Cross-Validation Accuracy: {tfidf_scores.mean():.4f}')"
   ]
  },
  {
   "cell_type": "markdown",
   "id": "962987da",
   "metadata": {
    "papermill": {
     "duration": 0.007706,
     "end_time": "2024-10-16T09:49:46.999122",
     "exception": false,
     "start_time": "2024-10-16T09:49:46.991416",
     "status": "completed"
    },
    "tags": []
   },
   "source": [
    "### 3.2 Word2Vec K-Fold Cross-Validation"
   ]
  },
  {
   "cell_type": "code",
   "execution_count": 13,
   "id": "bf4007fc",
   "metadata": {
    "execution": {
     "iopub.execute_input": "2024-10-16T09:49:47.016181Z",
     "iopub.status.busy": "2024-10-16T09:49:47.015842Z",
     "iopub.status.idle": "2024-10-16T09:50:12.049863Z",
     "shell.execute_reply": "2024-10-16T09:50:12.048903Z"
    },
    "papermill": {
     "duration": 25.044969,
     "end_time": "2024-10-16T09:50:12.051954",
     "exception": false,
     "start_time": "2024-10-16T09:49:47.006985",
     "status": "completed"
    },
    "tags": []
   },
   "outputs": [
    {
     "name": "stdout",
     "output_type": "stream",
     "text": [
      "Word2Vec Cross-Validation Accuracy: 0.7824\n"
     ]
    }
   ],
   "source": [
    "# 3.2 Word2Vec K-Fold Cross-Validation\n",
    "X_word2vec_array = np.array(X_word2vec)\n",
    "word2vec_scores = cross_val_score(clf_word2vec, X_word2vec_array, df['Sentiment'], cv=4, scoring='accuracy')\n",
    "print(f'Word2Vec Cross-Validation Accuracy: {word2vec_scores.mean():.4f}')"
   ]
  },
  {
   "cell_type": "markdown",
   "id": "3e35b5f3",
   "metadata": {
    "papermill": {
     "duration": 0.007975,
     "end_time": "2024-10-16T09:50:12.068495",
     "exception": false,
     "start_time": "2024-10-16T09:50:12.060520",
     "status": "completed"
    },
    "tags": []
   },
   "source": [
    "### 4. 比較 TF-IDF 和 Word2Vec 的效果"
   ]
  },
  {
   "cell_type": "code",
   "execution_count": 14,
   "id": "3b09b9cd",
   "metadata": {
    "execution": {
     "iopub.execute_input": "2024-10-16T09:50:12.085947Z",
     "iopub.status.busy": "2024-10-16T09:50:12.085608Z",
     "iopub.status.idle": "2024-10-16T09:50:12.090106Z",
     "shell.execute_reply": "2024-10-16T09:50:12.089252Z"
    },
    "papermill": {
     "duration": 0.015481,
     "end_time": "2024-10-16T09:50:12.092021",
     "exception": false,
     "start_time": "2024-10-16T09:50:12.076540",
     "status": "completed"
    },
    "tags": []
   },
   "outputs": [
    {
     "name": "stdout",
     "output_type": "stream",
     "text": [
      "TF-IDF Accuracy: 0.8205\n",
      "Word2Vec Accuracy: 0.8060\n"
     ]
    }
   ],
   "source": [
    "# 準確度比較\n",
    "print(f'TF-IDF Accuracy: {accuracy_tfidf:.4f}')\n",
    "print(f'Word2Vec Accuracy: {accuracy_word2vec:.4f}')"
   ]
  },
  {
   "cell_type": "code",
   "execution_count": 15,
   "id": "ff163fe5",
   "metadata": {
    "execution": {
     "iopub.execute_input": "2024-10-16T09:50:12.109628Z",
     "iopub.status.busy": "2024-10-16T09:50:12.108908Z",
     "iopub.status.idle": "2024-10-16T09:50:12.345127Z",
     "shell.execute_reply": "2024-10-16T09:50:12.344267Z"
    },
    "papermill": {
     "duration": 0.247063,
     "end_time": "2024-10-16T09:50:12.347159",
     "exception": false,
     "start_time": "2024-10-16T09:50:12.100096",
     "status": "completed"
    },
    "tags": []
   },
   "outputs": [
    {
     "data": {
      "image/png": "[encoded data removed]",
      "text/plain": [
       "<Figure size 600x400 with 1 Axes>"
      ]
     },
     "metadata": {},
     "output_type": "display_data"
    }
   ],
   "source": [
    "# 畫出比較條形圖\n",
    "methods = ['TF-IDF', 'Word2Vec']\n",
    "accuracies = [accuracy_tfidf, accuracy_word2vec]\n",
    "\n",
    "plt.figure(figsize=(6, 4))\n",
    "plt.bar(methods, accuracies, color=['blue', 'green'])\n",
    "plt.title('TF-IDF vs Word2Vec: Accuracy Comparison')\n",
    "plt.xlabel('Vectorization Method')\n",
    "plt.ylabel('Accuracy')\n",
    "plt.ylim(0, 1)\n",
    "plt.show()"
   ]
  }
 ],
 "metadata": {
  "kaggle": {
   "accelerator": "nvidiaTeslaT4",
   "dataSources": [
    {
     "datasetId": 18,
     "sourceId": 2157,
     "sourceType": "datasetVersion"
    }
   ],
   "dockerImageVersionId": 30787,
   "isGpuEnabled": true,
   "isInternetEnabled": true,
   "language": "python",
   "sourceType": "notebook"
  },
  "kernelspec": {
   "display_name": "Python 3",
   "language": "python",
   "name": "python3"
  },
  "language_info": {
   "codemirror_mode": {
    "name": "ipython",
    "version": 3
   },
   "file_extension": ".py",
   "mimetype": "text/x-python",
   "name": "python",
   "nbconvert_exporter": "python",
   "pygments_lexer": "ipython3",
   "version": "3.10.14"
  },
  "papermill": {
   "default_parameters": {},
   "duration": 139.127532,
   "end_time": "2024-10-16T09:50:13.175108",
   "environment_variables": {},
   "exception": null,
   "input_path": "__notebook__.ipynb",
   "output_path": "__notebook__.ipynb",
   "parameters": {},
   "start_time": "2024-10-16T09:47:54.047576",
   "version": "2.6.0"
  }
 },
 "nbformat": 4,
 "nbformat_minor": 5
}
